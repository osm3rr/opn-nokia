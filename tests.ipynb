{
 "cells": [
  {
   "cell_type": "code",
   "execution_count": 139,
   "metadata": {},
   "outputs": [],
   "source": [
    "import pandas as pd\n",
    "import numpy as np\n",
    "import openpyxl as px\n",
    "import shutil\n",
    "import os\n",
    "import glob\n"
   ]
  },
  {
   "cell_type": "code",
   "execution_count": 3,
   "metadata": {},
   "outputs": [],
   "source": [
    "#pd.show_versions()"
   ]
  },
  {
   "cell_type": "code",
   "execution_count": 4,
   "metadata": {},
   "outputs": [],
   "source": [
    "# prueba con para elminar valores duplicados\n",
    "\n",
    "df_1 = pd.DataFrame( {\n",
    "    'NAME' : ['jesus','maria','jose', 'jesus','maria','jose', 'jesus','maria','jose' ], \n",
    "    'LAST_NAME': ['primero', 'segundo', 'tercero', 'primero', 'segundo', 'tercero', 'primero', 'segundo', 'tercero'], \n",
    "    'CITY': ['ccs', 'plc', 'mbo', 'merida', 'cumana', 'aragua', 'ccs', 'plc', 'mbo']\n",
    "    \n",
    "} )"
   ]
  },
  {
   "cell_type": "code",
   "execution_count": 5,
   "metadata": {},
   "outputs": [],
   "source": [
    "df_2 = pd.DataFrame( {\n",
    "    'NAME_2' : ['jesus','maria','jose', 'jesus','maria','jose', 'jesus','maria','jose' ], \n",
    "    'LAST_NAME_2': ['primero', 'segundo', 'tercero', 'primero', 'segundo', 'tercero', 'primero', 'segundo', 'tercero'], \n",
    "    'CITY_2': ['ccs', 'plc', 'mbo', 'merida', 'cumana', 'aragua', 'ccs', 'plc', 'mbo']\n",
    "    \n",
    "} )"
   ]
  },
  {
   "cell_type": "code",
   "execution_count": 6,
   "metadata": {},
   "outputs": [],
   "source": [
    "df_3 = pd.DataFrame( {\n",
    "    'NAME_3' : ['jesus','maria','jose', 'jesus','maria','jose', 'jesus','maria','jose' ], \n",
    "    'LAST_NAME_3': ['primero', 'segundo', 'tercero', 'primero', 'segundo', 'tercero', 'primero', 'segundo', 'tercero'], \n",
    "    'CITY_3': ['ccs', 'plc', 'mbo', 'merida', 'cumana', 'aragua', 'ccs', 'plc', 'mbo']\n",
    "    \n",
    "} )"
   ]
  },
  {
   "cell_type": "code",
   "execution_count": 7,
   "metadata": {},
   "outputs": [],
   "source": [
    "df_4 = pd.DataFrame( {\n",
    "    'NAME_4' : ['jesus','maria','jose', 'jesus','maria','jose', 'jesus','maria','jose' ], \n",
    "    'LAST_NAME_4': ['primero', 'segundo', 'tercero', 'primero', 'segundo', 'tercero', 'primero', 'segundo', 'tercero'], \n",
    "    'CITY_4': ['ccs', 'plc', 'mbo', 'merida', 'cumana', 'aragua', 'ccs', 'plc', 'mbo']\n",
    "    \n",
    "} )"
   ]
  },
  {
   "cell_type": "code",
   "execution_count": 8,
   "metadata": {},
   "outputs": [],
   "source": [
    "df_5 = pd.DataFrame( {\n",
    "    'NAME_4' : ['jesus_5','maria_5' ], \n",
    "    'LAST_NAME_4': ['primero_5', 'segundo_5'], \n",
    "    'CITY_4': ['ccs_5', 'plc_5']\n",
    "    \n",
    "} )"
   ]
  },
  {
   "cell_type": "code",
   "execution_count": 9,
   "metadata": {},
   "outputs": [],
   "source": [
    "df_6 = pd.DataFrame( {\n",
    "    'NAME_6' : ['jesus_6','maria_6' ], \n",
    "    'LAST_NAME_6': ['primero_6', 'segundo_6'], \n",
    "    'CITY_6': ['ccs_6', 'plc_6']\n",
    "    } )"
   ]
  },
  {
   "cell_type": "code",
   "execution_count": 10,
   "metadata": {},
   "outputs": [],
   "source": [
    "df_7 = pd.DataFrame( {\n",
    "    'NAME_6' : ['jesus_7','maria_7' ], \n",
    "    'LAST_NAME_6': ['primero_7', 'segundo_7'], \n",
    "    'CITY_6': ['ccs_7', 'plc_7']\n",
    "    } )"
   ]
  },
  {
   "cell_type": "code",
   "execution_count": 11,
   "metadata": {},
   "outputs": [
    {
     "data": {
      "text/html": [
       "<div>\n",
       "<style scoped>\n",
       "    .dataframe tbody tr th:only-of-type {\n",
       "        vertical-align: middle;\n",
       "    }\n",
       "\n",
       "    .dataframe tbody tr th {\n",
       "        vertical-align: top;\n",
       "    }\n",
       "\n",
       "    .dataframe thead th {\n",
       "        text-align: right;\n",
       "    }\n",
       "</style>\n",
       "<table border=\"1\" class=\"dataframe\">\n",
       "  <thead>\n",
       "    <tr style=\"text-align: right;\">\n",
       "      <th></th>\n",
       "      <th>NAME_6</th>\n",
       "      <th>LAST_NAME_6</th>\n",
       "      <th>CITY_6</th>\n",
       "    </tr>\n",
       "  </thead>\n",
       "  <tbody>\n",
       "    <tr>\n",
       "      <th>0</th>\n",
       "      <td>jesus_6</td>\n",
       "      <td>primero_6</td>\n",
       "      <td>ccs_6</td>\n",
       "    </tr>\n",
       "    <tr>\n",
       "      <th>1</th>\n",
       "      <td>maria_6</td>\n",
       "      <td>segundo_6</td>\n",
       "      <td>plc_6</td>\n",
       "    </tr>\n",
       "  </tbody>\n",
       "</table>\n",
       "</div>"
      ],
      "text/plain": [
       "    NAME_6 LAST_NAME_6 CITY_6\n",
       "0  jesus_6   primero_6  ccs_6\n",
       "1  maria_6   segundo_6  plc_6"
      ]
     },
     "execution_count": 11,
     "metadata": {},
     "output_type": "execute_result"
    }
   ],
   "source": [
    "df_6.head()"
   ]
  },
  {
   "cell_type": "code",
   "execution_count": 28,
   "metadata": {},
   "outputs": [
    {
     "data": {
      "text/plain": [
       "2"
      ]
     },
     "execution_count": 28,
     "metadata": {},
     "output_type": "execute_result"
    }
   ],
   "source": [
    "# salida de la len del df\n",
    "len( df_6 )\n"
   ]
  },
  {
   "cell_type": "code",
   "execution_count": 13,
   "metadata": {},
   "outputs": [],
   "source": [
    "# Eliminar valores duplicados por una llave de atributos\n",
    "# df_1.drop_duplicates(subset=[\"NAME\", \"LAST_NAME\", \"CITY\"])"
   ]
  },
  {
   "cell_type": "code",
   "execution_count": 14,
   "metadata": {},
   "outputs": [],
   "source": [
    "# list_1 = [2, 3, 5]\n",
    "\n",
    "# list_2 = [ 10, 20, 30 ]\n",
    "\n",
    "# # output: \n",
    "\n",
    "# for item in range( len( list_1 ) ):\n",
    "#     for num in range( len( list_2 ) ):\n",
    "#         print( f'{list_2[num]} * {list_1[num]}' )\n"
   ]
  },
  {
   "cell_type": "code",
   "execution_count": 15,
   "metadata": {},
   "outputs": [],
   "source": [
    "#df = pd.DataFrame([[4, 9]] * 3, columns=['A', 'B'])\n",
    "#df"
   ]
  },
  {
   "cell_type": "code",
   "execution_count": 16,
   "metadata": {},
   "outputs": [],
   "source": [
    "#import math\n",
    "#df['A'] = df['A'].apply( math.sqrt )"
   ]
  },
  {
   "cell_type": "code",
   "execution_count": null,
   "metadata": {},
   "outputs": [],
   "source": []
  },
  {
   "cell_type": "markdown",
   "metadata": {},
   "source": [
    "# Pruebas de escritura en hojas de cálculo"
   ]
  },
  {
   "cell_type": "code",
   "execution_count": 17,
   "metadata": {},
   "outputs": [],
   "source": [
    "# Reference: https://pythonbasics.org/write-excel/\n",
    "\n",
    "# export a df pandas object to excel file in a specific folder\n",
    "df_1.to_excel( 'may_26/pandas_to_excel_1.xlsx', sheet_name='new_sheet_name' )"
   ]
  },
  {
   "cell_type": "code",
   "execution_count": 18,
   "metadata": {},
   "outputs": [],
   "source": [
    "# export an excel file in a specific folder\n",
    "# without row name\n",
    "df_1.to_excel( 'may_26/pandas_to_excel_2.xlsx', \n",
    "              sheet_name='new_sheet_name', \n",
    "              index=False\n",
    "              )"
   ]
  },
  {
   "cell_type": "code",
   "execution_count": 19,
   "metadata": {},
   "outputs": [],
   "source": [
    "# export an excel file in a specific folder\n",
    "# without row name and column name\n",
    "df_1.to_excel( 'pandas_to_excel_3.xlsx', \n",
    "              sheet_name = 'new_sheet_name', \n",
    "              index = False, \n",
    "              header = False\n",
    "              )"
   ]
  },
  {
   "cell_type": "code",
   "execution_count": 20,
   "metadata": {},
   "outputs": [],
   "source": [
    "# # write diferent objects in excel file\n",
    "# with pd.ExcelWriter( 'pandas_to_excel_4.xlsx' ) as writer:\n",
    "#     df_1.to_excel( writer, sheet_name='sheet_df_1' )\n",
    "#     df_2.to_excel( writer, sheet_name='sheet_df_2' )"
   ]
  },
  {
   "cell_type": "code",
   "execution_count": 34,
   "metadata": {},
   "outputs": [],
   "source": [
    "# add df python object to new excel file\n",
    "\n",
    "# raise an error\n",
    "path = 'pandas_to_excel_4.xlsx'\n",
    "\n",
    "# xlsxwriter allow work with .xlsx files\n",
    "\n",
    "with pd.ExcelWriter( path, engine='xlsxwriter' ) as writer:\n",
    "    df_3.to_excel( writer, sheet_name='sheet_df_3', index=False )\n",
    "    df_4.to_excel( writer, sheet_name='sheet_df_4', index=False )\n",
    "    #writer.close() # save and close the writer context\n",
    "    "
   ]
  },
  {
   "cell_type": "code",
   "execution_count": 35,
   "metadata": {},
   "outputs": [],
   "source": [
    "# option 1 \n",
    "# add df python object, in a new sheet to existing excel file\n",
    "\n",
    "# route of existing file \n",
    "path = 'pandas_to_excel_4.xlsx'\n",
    "\n",
    "# \"openpyxl\" allow write existing .xlsx files\n",
    "with pd.ExcelWriter( path, mode='a', \n",
    "                    engine='openpyxl', \n",
    "                    if_sheet_exists='replace' ) as writer:\n",
    "   \n",
    "   df_6.to_excel( writer, sheet_name='sheet_df_5', index=False )\n",
    "   #writer.close() # save and close the writer context\n",
    "   \n",
    "\n"
   ]
  },
  {
   "cell_type": "code",
   "execution_count": 36,
   "metadata": {},
   "outputs": [
    {
     "data": {
      "text/html": [
       "<div>\n",
       "<style scoped>\n",
       "    .dataframe tbody tr th:only-of-type {\n",
       "        vertical-align: middle;\n",
       "    }\n",
       "\n",
       "    .dataframe tbody tr th {\n",
       "        vertical-align: top;\n",
       "    }\n",
       "\n",
       "    .dataframe thead th {\n",
       "        text-align: right;\n",
       "    }\n",
       "</style>\n",
       "<table border=\"1\" class=\"dataframe\">\n",
       "  <thead>\n",
       "    <tr style=\"text-align: right;\">\n",
       "      <th></th>\n",
       "      <th>NAME_6</th>\n",
       "      <th>LAST_NAME_6</th>\n",
       "      <th>CITY_6</th>\n",
       "    </tr>\n",
       "  </thead>\n",
       "  <tbody>\n",
       "    <tr>\n",
       "      <th>0</th>\n",
       "      <td>jesus_6</td>\n",
       "      <td>primero_6</td>\n",
       "      <td>ccs_6</td>\n",
       "    </tr>\n",
       "    <tr>\n",
       "      <th>1</th>\n",
       "      <td>maria_6</td>\n",
       "      <td>segundo_6</td>\n",
       "      <td>plc_6</td>\n",
       "    </tr>\n",
       "  </tbody>\n",
       "</table>\n",
       "</div>"
      ],
      "text/plain": [
       "    NAME_6 LAST_NAME_6 CITY_6\n",
       "0  jesus_6   primero_6  ccs_6\n",
       "1  maria_6   segundo_6  plc_6"
      ]
     },
     "execution_count": 36,
     "metadata": {},
     "output_type": "execute_result"
    }
   ],
   "source": [
    "df_6.head()"
   ]
  },
  {
   "cell_type": "code",
   "execution_count": 37,
   "metadata": {},
   "outputs": [],
   "source": [
    "# option 2\n",
    "\n",
    "# try with these solution\n",
    "# https://www.codingconception.com/python-examples/append-data-in-excel-using-python/\n",
    "\n",
    "# route of existing file \n",
    "path = 'pandas_to_excel_4.xlsx'\n",
    "\n",
    "# \"openpyxl\" allow write existing .xlsx files\n",
    "# 'overlay' permite escribir sin borrar lo existente\n",
    "with pd.ExcelWriter( path,\n",
    "                    mode='a', \n",
    "                    engine='openpyxl', \n",
    "                    if_sheet_exists='overlay' ) as writer:\n",
    "    \n",
    "    # vacía el df específico en una hoja existente\n",
    "    start_row = len( df_7 ) + 1\n",
    "    df_7.to_excel( writer, \n",
    "                  sheet_name = 'sheet_df_5', \n",
    "                  startrow = start_row, \n",
    "                  index = False,\n",
    "                  header = None\n",
    "                  )\n",
    "    \n",
    "    "
   ]
  },
  {
   "cell_type": "code",
   "execution_count": 38,
   "metadata": {},
   "outputs": [
    {
     "data": {
      "text/html": [
       "<div>\n",
       "<style scoped>\n",
       "    .dataframe tbody tr th:only-of-type {\n",
       "        vertical-align: middle;\n",
       "    }\n",
       "\n",
       "    .dataframe tbody tr th {\n",
       "        vertical-align: top;\n",
       "    }\n",
       "\n",
       "    .dataframe thead th {\n",
       "        text-align: right;\n",
       "    }\n",
       "</style>\n",
       "<table border=\"1\" class=\"dataframe\">\n",
       "  <thead>\n",
       "    <tr style=\"text-align: right;\">\n",
       "      <th></th>\n",
       "      <th>NAME_6</th>\n",
       "      <th>LAST_NAME_6</th>\n",
       "      <th>CITY_6</th>\n",
       "    </tr>\n",
       "  </thead>\n",
       "  <tbody>\n",
       "    <tr>\n",
       "      <th>0</th>\n",
       "      <td>jesus_6</td>\n",
       "      <td>primero_6</td>\n",
       "      <td>ccs_6</td>\n",
       "    </tr>\n",
       "    <tr>\n",
       "      <th>1</th>\n",
       "      <td>maria_6</td>\n",
       "      <td>segundo_6</td>\n",
       "      <td>plc_6</td>\n",
       "    </tr>\n",
       "    <tr>\n",
       "      <th>2</th>\n",
       "      <td>jesus_7</td>\n",
       "      <td>primero_7</td>\n",
       "      <td>ccs_7</td>\n",
       "    </tr>\n",
       "    <tr>\n",
       "      <th>3</th>\n",
       "      <td>maria_7</td>\n",
       "      <td>segundo_7</td>\n",
       "      <td>plc_7</td>\n",
       "    </tr>\n",
       "  </tbody>\n",
       "</table>\n",
       "</div>"
      ],
      "text/plain": [
       "    NAME_6 LAST_NAME_6 CITY_6\n",
       "0  jesus_6   primero_6  ccs_6\n",
       "1  maria_6   segundo_6  plc_6\n",
       "2  jesus_7   primero_7  ccs_7\n",
       "3  maria_7   segundo_7  plc_7"
      ]
     },
     "execution_count": 38,
     "metadata": {},
     "output_type": "execute_result"
    }
   ],
   "source": [
    "path = 'pandas_to_excel_4.xlsx'\n",
    "df_result = pd.read_excel( path, sheet_name=\"sheet_df_5\" )\n",
    "\n",
    "#print(len(reader) + 1)\n",
    "#reader = reader.drop( labels=0, axis=0 )\n",
    "df_result.head()"
   ]
  },
  {
   "cell_type": "code",
   "execution_count": 25,
   "metadata": {},
   "outputs": [],
   "source": [
    "#pd.show_versions()"
   ]
  },
  {
   "cell_type": "code",
   "execution_count": 26,
   "metadata": {},
   "outputs": [],
   "source": [
    "# # create a pandas excel writer\n",
    "# # open de file\n",
    "# path = 'pandas_to_excel_4.xlsx'\n",
    "# writer = pd.ExcelWriter( path, engine='xlsxwriter' )\n",
    "\n",
    "# # convert the dataframe to an xlsxwriter\n",
    "# df_3.to_excel( writer, sheet_name='sheet_df_3', index=False )\n",
    "\n",
    "# writer.save()"
   ]
  },
  {
   "cell_type": "code",
   "execution_count": null,
   "metadata": {},
   "outputs": [],
   "source": []
  },
  {
   "cell_type": "code",
   "execution_count": 29,
   "metadata": {},
   "outputs": [],
   "source": [
    "# path = 'pandas_to_excel_4.xlsx'\n",
    "# # append data in excel file\n",
    "# writer = pd.ExcelWriter(path, engine='openpyxl')\n",
    "# # try to open an existing workbook\n",
    "# writer.book = px.load_workbook(path)\n",
    "# # copy existing sheets\n",
    "# writer.sheets = dict((ws.title, ws) for ws in writer.book.worksheets)\n",
    "# # read existing file\n",
    "# reader = pd.read_excel(path)\n",
    "# # write out the new sheet\n",
    "# df_5.to_excel(writer,index=False,header=False,startrow=len(reader)+1)\n",
    "\n",
    "# writer.close()"
   ]
  },
  {
   "cell_type": "code",
   "execution_count": 27,
   "metadata": {},
   "outputs": [
    {
     "name": "stdout",
     "output_type": "stream",
     "text": [
      "BCA.Terminal\n",
      "BOG.CC Titan-2\n",
      "BOG.Atavanza\n",
      "BOG.Puente Grande\n",
      "list of data:  ['BCA.Terminal', 'BOG.CC Titan-2', 'BOG.Atavanza', 'BOG.Puente Grande']\n",
      "4\n"
     ]
    }
   ],
   "source": [
    "# reading a .txt file \n",
    "\n",
    "filter_file = 'input/listado_de_sitios_at.txt'\n",
    "\n",
    "read_file = open( filter_file, 'r' )\n",
    "\n",
    "data = read_file.read()\n",
    "\n",
    "#print( \"Data in file:\", data )\n",
    "\n",
    "# data_into_list = data.replace('\\n', ' ').split(\".\")\n",
    "#list_data = data.replace( '\\n', '' ).split( \",\" )\n",
    "list_data = data.split( \"\\n\" )\n",
    "\n",
    "read_file.close()\n",
    "\n",
    "print( data )\n",
    "print( \"list of data: \", list_data )\n",
    "print( len( list_data ) )\n"
   ]
  },
  {
   "cell_type": "code",
   "execution_count": 41,
   "metadata": {},
   "outputs": [
    {
     "name": "stdout",
     "output_type": "stream",
     "text": [
      " items found: 2/5 (['site 1', 'site 5']) \n"
     ]
    }
   ],
   "source": [
    "# Revisar que valores de una lista se ecuentran en otra\n",
    "\n",
    "# lista que se buscará\n",
    "sites_to_search = ['site 1', 'site 2', 'site 3', 'site 4', 'site 5']\n",
    "\n",
    "# lista de pruebas 1\n",
    "test_list_2g = [ 'site 1', 'site 5' ]\n",
    "test_list_3g = [ 'site 2', 'site 4' ]\n",
    "test_list_4g = [ 'site 3']\n",
    "\n",
    "# algortimo de búsqueda\n",
    "found_sites_2g = []\n",
    "total_items_searched_2g = len( sites_to_search )\n",
    "found_items_counter = 0\n",
    "for item in sites_to_search:\n",
    "    if item in test_list_2g:\n",
    "        found_items_counter += 1\n",
    "        found_sites_2g.append( item )\n",
    "\n",
    "#print( f'Found sites: {found_sites}' )\n",
    "\n",
    "print( f\" items found: {found_items_counter}/{total_items_searched_2g} ({found_sites_2g}) \" )"
   ]
  },
  {
   "cell_type": "code",
   "execution_count": 62,
   "metadata": {},
   "outputs": [
    {
     "name": "stdout",
     "output_type": "stream",
     "text": [
      "output/Alertas Tempranas_2G.xlsx\n",
      "output/site 5_Alertas Tempranas_2G.xlsx\n"
     ]
    }
   ],
   "source": [
    "\n",
    "# Pruebas para copiar y pegar un archivo en una ruta específica.\n",
    "src_path_2g = r\"plantilla/Alertas Tempranas_2G.xlsx\"\n",
    "src_path_3g = r\"plantilla/Alertas Tempranas_3G.xlsx\"\n",
    "src_path_4g = r\"plantilla/Alertas Tempranas_4G.xlsx\"\n",
    "\n",
    "#files_src = [ src_path_2g, src_path_3g, src_path_4g ]\n",
    "\n",
    "dest_path = r\"output/\"\n",
    "\n",
    "# copiar archivo\n",
    "shutil.copy( src_path_2g, dest_path )\n",
    "\n",
    "# sites 2g\n",
    "found_sites_2g\n",
    "\n",
    "# rename the file\n",
    "for file_name in os.listdir(dest_path):\n",
    "    if \"2G\" in file_name:\n",
    "        for file in range( len( found_sites_2g )):\n",
    "            \n",
    "            old_name = dest_path + file_name\n",
    "            new_name_dest = dest_path + found_sites_2g[file]+'_' + file_name\n",
    "            \n",
    "            os.rename( old_name, new_name_dest )\n",
    "            shutil.copy( src_path_2g, dest_path )\n",
    "            \n",
    "        os.remove( old_name )\n",
    "            \n",
    "print( old_name )            \n",
    "print( new_name_dest )\n",
    "\n",
    "\n",
    "# for file in range( len( found_sites_2g ) ):\n",
    "#     shutil.copy( src_path_2g, dest_path )\n",
    "#     #print( found_sites_2g[file] )\n",
    "\n",
    "# Each file will be copied as many times as the files exist by technology\n"
   ]
  },
  {
   "cell_type": "code",
   "execution_count": 38,
   "metadata": {},
   "outputs": [],
   "source": [
    "# def searching( *sites_searching ):\n",
    "#     \"\"\" searching sites by technology \"\"\"\n",
    "#     found_sites = []\n",
    "#     total_items_searched = len( list_data )\n",
    "#     found_items_counter = 0\n",
    "#     for item in sites_to_search:\n",
    "#         if item in sites_searching:\n",
    "#             found_items_counter += 1\n",
    "#             found_sites.append( item )\n",
    "\n",
    "#     return print( found_sites )\n"
   ]
  },
  {
   "cell_type": "code",
   "execution_count": null,
   "metadata": {},
   "outputs": [],
   "source": []
  },
  {
   "cell_type": "code",
   "execution_count": 4,
   "metadata": {},
   "outputs": [
    {
     "name": "stdout",
     "output_type": "stream",
     "text": [
      "BCA.Terminal\n",
      "BOG.CC Titan-2\n",
      "BOG.Atavanza\n"
     ]
    }
   ],
   "source": [
    "dict_test = pd.DataFrame(\n",
    "    {\n",
    "        'BCA.Terminal' : ['one', 'two', 'tree'], \n",
    "        'BOG.CC Titan-2' : ['four', 'five', 'six'], \n",
    "        'BOG.Atavanza' : ['seven', 'eight', 'nine']\n",
    "    }\n",
    ")\n",
    "\n",
    "for key in dict_test.keys():\n",
    "    print( key )"
   ]
  },
  {
   "cell_type": "code",
   "execution_count": 9,
   "metadata": {},
   "outputs": [],
   "source": [
    "# Inyección de los datos \n",
    "# destination path\n",
    "dest_path = r\"output/\"\n",
    "found_sites_lte_failures = ['BCA.Terminal', 'BOG.CC Titan-2', 'BOG.Atavanza']\n",
    "\n",
    "# recorre los archivos existentes\n",
    "for file_name in os.listdir(dest_path):\n",
    "    if \"4G\" in file_name:\n",
    "        #print( \"4G: \", file_name )\n",
    "        # ruta de los archivos 4g\n",
    "        path_file_4g = dest_path + file_name\n",
    "        for site in found_sites_lte_failures:\n",
    "            if site in path_file_4g:\n",
    "                # colocar el código de injection\n",
    "                #print( \"injection route:\" ,path_file_4g )\n",
    "                #print( \"data injection\", \"\\n\", dict_test[ site ] )\n",
    "                # Saving 4G files\n",
    "                # path_4g = 'output/Alertas Tempranas_4G.xlsx'\n",
    "\n",
    "                with pd.ExcelWriter( \n",
    "                                    path_file_4g,\n",
    "                                    mode='a', \n",
    "                                    engine='openpyxl', \n",
    "                                    if_sheet_exists='overlay' ) as writer:\n",
    "                    \n",
    "                    # reading the dimensions of the existing file\n",
    "                    reader_faults_lte = pd.read_excel( path_file_4g, sheet_name='Data2' )\n",
    "                    start_row_faults_lte = len( reader_faults_lte ) + 1\n",
    "                    \n",
    "                    # fill the specific df in an existing sheet\n",
    "                    dict_test[ site ].to_excel( \n",
    "                                                writer, \n",
    "                                                sheet_name = 'Data2', \n",
    "                                                index = False,\n",
    "                                                header = None,\n",
    "                                                startrow = start_row_faults_lte\n",
    "                                                )\n",
    "                      \n",
    "            else:\n",
    "                pass\n",
    "                \n",
    "    else:\n",
    "        pass\n",
    "    \n",
    "    # if \"3G\" in file_name:\n",
    "    #     print( \"3G: \", file_name )\n",
    "    # else:\n",
    "    #     pass\n",
    "    \n",
    "    # if \"2G\" in file_name:\n",
    "    #     print( \"2G: \", file_name )\n",
    "    # else:\n",
    "    #     pass"
   ]
  },
  {
   "cell_type": "code",
   "execution_count": 15,
   "metadata": {},
   "outputs": [
    {
     "name": "stdout",
     "output_type": "stream",
     "text": [
      "/home/opm/Documentos-opm/OPN_COLOMBIA/ANALYSIS/input/WCDMA17_NPO_Monitoring_V4_RC9-RSRAN-WCEL-hour-PM_60151-2022_05_09-08_46_41__74 (copia).xlsx\n"
     ]
    }
   ],
   "source": [
    "path = \"/home/opm/Documentos-opm/OPN_COLOMBIA/ANALYSIS/\"\n",
    "\n",
    "xlsx_files_list = glob.glob( path + \"input\" + \"/*.xlsx\" )\n",
    "\n",
    "print( xlsx_files_list[1] )\n",
    "# for xlsx_file in xlsx_files_list:\n",
    "#     print( xlsx_file )"
   ]
  },
  {
   "cell_type": "code",
   "execution_count": 23,
   "metadata": {},
   "outputs": [],
   "source": [
    "# Consolite files by technology in input folder\n",
    "\n",
    "# algorith\n",
    "# 1. Copy files from plantilla to input folder\n",
    "# 2. Inyectar la data filtrada en los archivos correspondientes, \n",
    "#   según las pestañas que correspondan\n",
    "\n",
    "import pandas as pd\n",
    "import numpy as np\n",
    "import glob\n",
    "from pathlib import Path\n",
    "import shutil\n",
    "import os\n",
    "\n",
    "# destination path input folder\n",
    "dest_path_input = r\"input/\"\n",
    "\n",
    "# templates path\n",
    "src_path_plantilla = r\"plantilla/\"\n",
    "for consolidated_file in os.listdir(src_path_plantilla):\n",
    "    src_path = src_path_plantilla + consolidated_file\n",
    "    \n",
    "    if consolidated_file in os.listdir( dest_path_input ):\n",
    "        #print( f\"here is this file: {dest_path_input + consolidated_file}\" )\n",
    "        os.remove( dest_path_input + consolidated_file )\n",
    "        shutil.copy( src_path, dest_path_input )\n",
    "        \n",
    "    else:\n",
    "        #print( \"it wasn't!\" )\n",
    "        shutil.copy( src_path, dest_path_input )\n",
    "    "
   ]
  },
  {
   "cell_type": "markdown",
   "metadata": {},
   "source": [
    "# Pruebas para la generación de las gráficas"
   ]
  },
  {
   "cell_type": "code",
   "execution_count": 2,
   "metadata": {},
   "outputs": [],
   "source": [
    "import pandas as pd\n",
    "import numpy as np\n"
   ]
  },
  {
   "cell_type": "code",
   "execution_count": 36,
   "metadata": {},
   "outputs": [],
   "source": [
    "# 4G graph 1-13\n",
    "\n",
    "# option 1: Generate the empty dataframe\n",
    "\n",
    "# attributes graph 1\n",
    "# Etiquetas de fila\tL1\tL2\tL3\tL4\tL5\tL6\tM1\n",
    "# M2\tM3\tM4\tM5\tM6\tR1\tR2\tR3\tT1\tT2\tT3\n",
    "# T4\tT5\tT6\tTotal general\n",
    "graph_dict = {}\n",
    "\n",
    "attribute_graph_1 = [ \n",
    "                     'Etiquetas de fila', \n",
    "                     'L1',\t'L2', 'L3', \n",
    "                     'L4', 'L5', 'L6', \n",
    "                     'M1', 'M2', 'M3', 'M4', \n",
    "                     'M5',\t'M6',\t'R1',\n",
    "                     'R2', 'R3', 'T1', 'T2', \n",
    "                     'T3', 'T4', 'T5', 'T6', \n",
    "                     'Total general' \n",
    "                     ]\n",
    "\n",
    "for item in attribute_graph_1:\n",
    "    graph_dict[item] = [ np.nan for i in range( 3 ) ]\n",
    "\n",
    "df_graph_1 = pd.DataFrame( graph_dict )"
   ]
  },
  {
   "cell_type": "code",
   "execution_count": 38,
   "metadata": {},
   "outputs": [
    {
     "data": {
      "text/html": [
       "<div>\n",
       "<style scoped>\n",
       "    .dataframe tbody tr th:only-of-type {\n",
       "        vertical-align: middle;\n",
       "    }\n",
       "\n",
       "    .dataframe tbody tr th {\n",
       "        vertical-align: top;\n",
       "    }\n",
       "\n",
       "    .dataframe thead th {\n",
       "        text-align: right;\n",
       "    }\n",
       "</style>\n",
       "<table border=\"1\" class=\"dataframe\">\n",
       "  <thead>\n",
       "    <tr style=\"text-align: right;\">\n",
       "      <th></th>\n",
       "      <th>Etiquetas de fila</th>\n",
       "      <th>L1</th>\n",
       "      <th>L2</th>\n",
       "      <th>L3</th>\n",
       "      <th>L4</th>\n",
       "      <th>L5</th>\n",
       "      <th>L6</th>\n",
       "      <th>M1</th>\n",
       "      <th>M2</th>\n",
       "      <th>M3</th>\n",
       "      <th>...</th>\n",
       "      <th>R1</th>\n",
       "      <th>R2</th>\n",
       "      <th>R3</th>\n",
       "      <th>T1</th>\n",
       "      <th>T2</th>\n",
       "      <th>T3</th>\n",
       "      <th>T4</th>\n",
       "      <th>T5</th>\n",
       "      <th>T6</th>\n",
       "      <th>Total general</th>\n",
       "    </tr>\n",
       "  </thead>\n",
       "  <tbody>\n",
       "    <tr>\n",
       "      <th>0</th>\n",
       "      <td>NaN</td>\n",
       "      <td>NaN</td>\n",
       "      <td>NaN</td>\n",
       "      <td>NaN</td>\n",
       "      <td>NaN</td>\n",
       "      <td>NaN</td>\n",
       "      <td>NaN</td>\n",
       "      <td>NaN</td>\n",
       "      <td>NaN</td>\n",
       "      <td>NaN</td>\n",
       "      <td>...</td>\n",
       "      <td>NaN</td>\n",
       "      <td>NaN</td>\n",
       "      <td>NaN</td>\n",
       "      <td>NaN</td>\n",
       "      <td>NaN</td>\n",
       "      <td>NaN</td>\n",
       "      <td>NaN</td>\n",
       "      <td>NaN</td>\n",
       "      <td>NaN</td>\n",
       "      <td>NaN</td>\n",
       "    </tr>\n",
       "    <tr>\n",
       "      <th>1</th>\n",
       "      <td>NaN</td>\n",
       "      <td>NaN</td>\n",
       "      <td>NaN</td>\n",
       "      <td>NaN</td>\n",
       "      <td>NaN</td>\n",
       "      <td>NaN</td>\n",
       "      <td>NaN</td>\n",
       "      <td>NaN</td>\n",
       "      <td>NaN</td>\n",
       "      <td>NaN</td>\n",
       "      <td>...</td>\n",
       "      <td>NaN</td>\n",
       "      <td>NaN</td>\n",
       "      <td>NaN</td>\n",
       "      <td>NaN</td>\n",
       "      <td>NaN</td>\n",
       "      <td>NaN</td>\n",
       "      <td>NaN</td>\n",
       "      <td>NaN</td>\n",
       "      <td>NaN</td>\n",
       "      <td>NaN</td>\n",
       "    </tr>\n",
       "    <tr>\n",
       "      <th>2</th>\n",
       "      <td>NaN</td>\n",
       "      <td>NaN</td>\n",
       "      <td>NaN</td>\n",
       "      <td>NaN</td>\n",
       "      <td>NaN</td>\n",
       "      <td>NaN</td>\n",
       "      <td>NaN</td>\n",
       "      <td>NaN</td>\n",
       "      <td>NaN</td>\n",
       "      <td>NaN</td>\n",
       "      <td>...</td>\n",
       "      <td>NaN</td>\n",
       "      <td>NaN</td>\n",
       "      <td>NaN</td>\n",
       "      <td>NaN</td>\n",
       "      <td>NaN</td>\n",
       "      <td>NaN</td>\n",
       "      <td>NaN</td>\n",
       "      <td>NaN</td>\n",
       "      <td>NaN</td>\n",
       "      <td>NaN</td>\n",
       "    </tr>\n",
       "  </tbody>\n",
       "</table>\n",
       "<p>3 rows × 23 columns</p>\n",
       "</div>"
      ],
      "text/plain": [
       "   Etiquetas de fila  L1  L2  L3  L4  L5  L6  M1  M2  M3  ...  R1  R2  R3  T1  \\\n",
       "0                NaN NaN NaN NaN NaN NaN NaN NaN NaN NaN  ... NaN NaN NaN NaN   \n",
       "1                NaN NaN NaN NaN NaN NaN NaN NaN NaN NaN  ... NaN NaN NaN NaN   \n",
       "2                NaN NaN NaN NaN NaN NaN NaN NaN NaN NaN  ... NaN NaN NaN NaN   \n",
       "\n",
       "   T2  T3  T4  T5  T6  Total general  \n",
       "0 NaN NaN NaN NaN NaN            NaN  \n",
       "1 NaN NaN NaN NaN NaN            NaN  \n",
       "2 NaN NaN NaN NaN NaN            NaN  \n",
       "\n",
       "[3 rows x 23 columns]"
      ]
     },
     "execution_count": 38,
     "metadata": {},
     "output_type": "execute_result"
    }
   ],
   "source": [
    "df_graph_1.head()"
   ]
  },
  {
   "cell_type": "code",
   "execution_count": null,
   "metadata": {},
   "outputs": [],
   "source": []
  },
  {
   "cell_type": "code",
   "execution_count": 136,
   "metadata": {},
   "outputs": [
    {
     "name": "stderr",
     "output_type": "stream",
     "text": [
      "/tmp/ipykernel_14487/3254028988.py:13: SettingWithCopyWarning: \n",
      "A value is trying to be set on a copy of a slice from a DataFrame\n",
      "\n",
      "See the caveats in the documentation: https://pandas.pydata.org/pandas-docs/stable/user_guide/indexing.html#returning-a-view-versus-a-copy\n",
      "  df_graph_1.rename( columns = {\n",
      "/tmp/ipykernel_14487/3254028988.py:18: SettingWithCopyWarning: \n",
      "A value is trying to be set on a copy of a slice from a DataFrame.\n",
      "Try using .loc[row_indexer,col_indexer] = value instead\n",
      "\n",
      "See the caveats in the documentation: https://pandas.pydata.org/pandas-docs/stable/user_guide/indexing.html#returning-a-view-versus-a-copy\n",
      "  df_graph_1['Etiquetas de fila'] = df_graph_1['Etiquetas de fila'].dt.strftime( '%d/%m/%Y  %H:%M' )\n"
     ]
    }
   ],
   "source": [
    "# tratamiento para un archivo\n",
    "\n",
    "# test file\n",
    "dest_path = r\"output/\"\n",
    "path_file_test = dest_path + \"BOG.Atavanza_Alertas Tempranas_4G.xlsx\"\n",
    "\n",
    "# read the specific tab\n",
    "df_tests = pd.read_excel( io=path_file_test, sheet_name=\"Data\" )\n",
    "\n",
    "# attributes for the graph\n",
    "df_graph_1 = df_tests[ [ 'Period start time', 'Cell Avail excl BLU', 'Sector' ] ]\n",
    "\n",
    "df_graph_1.rename( columns = {\n",
    "    \"Period start time\": \"Etiquetas de fila\"\n",
    "    }, inplace = True);\n",
    "\n",
    "# change the format\n",
    "df_graph_1['Etiquetas de fila'] = df_graph_1['Etiquetas de fila'].dt.strftime( '%d/%m/%Y  %H:%M' )\n",
    "\n",
    "# uniques values for the attribute column\n",
    "column_list = list( df_graph_1[ 'Sector' ].unique() )\n",
    "\n",
    "# insert the first attribute\n",
    "column_list.insert( 0, \"Etiquetas de fila\" )\n",
    "\n",
    "# Dictionary for data package\n",
    "dict_graph1 = {}\n",
    "\n",
    "# attribute 1\n",
    "graph_1 = \"Cell Avail excl BLU\"\n",
    "\n",
    "# the first value of dictionary\n",
    "dict_graph1[ column_list[0] ] = df_graph_1[ column_list[0] ] \n",
    "\n",
    "# build a dictionary with \n",
    "for item in range(1, len( column_list ) ):\n",
    "    dict_graph1[ column_list[item] ] = df_graph_1[ df_graph_1[\"Sector\"] == column_list[item] ][graph_1]\n",
    "\n",
    "df_1 = pd.DataFrame( dict_graph1 )\n"
   ]
  },
  {
   "cell_type": "code",
   "execution_count": 161,
   "metadata": {},
   "outputs": [],
   "source": [
    "#df_1[ df_1[\"L2\"] != np.nan]"
   ]
  },
  {
   "cell_type": "code",
   "execution_count": 47,
   "metadata": {},
   "outputs": [],
   "source": [
    "# extraigo los atributos requeridos\n",
    "#df_graph_1 = df_tests[ [ 'Period start time', 'Cell Avail excl BLU', 'column' ] ]"
   ]
  },
  {
   "cell_type": "code",
   "execution_count": 113,
   "metadata": {},
   "outputs": [],
   "source": [
    "# df_graph_1.head(3)"
   ]
  },
  {
   "cell_type": "code",
   "execution_count": 117,
   "metadata": {},
   "outputs": [],
   "source": [
    "# Renombro la primera columna por \"Etiquetas de fila\"\n",
    "# df_graph_1.rename( columns = {\n",
    "#     \"Period start time\": \"Etiquetas de fila\"\n",
    "#     });"
   ]
  },
  {
   "cell_type": "code",
   "execution_count": 134,
   "metadata": {},
   "outputs": [],
   "source": [
    "#df_graph_1.head(3)"
   ]
  },
  {
   "cell_type": "code",
   "execution_count": 130,
   "metadata": {},
   "outputs": [],
   "source": [
    "# Change the format the first column\n",
    "\n",
    "# df_graph_1['Etiquetas de fila'] = df_graph_1['Etiquetas de fila'].dt.strftime( '%d/%m/%Y  %H:%M' )"
   ]
  },
  {
   "cell_type": "code",
   "execution_count": 132,
   "metadata": {},
   "outputs": [],
   "source": [
    "#df_graph_1.tail(3)"
   ]
  },
  {
   "cell_type": "code",
   "execution_count": 133,
   "metadata": {},
   "outputs": [],
   "source": [
    "# Extraer los valores únicos de los columnes\n",
    "# column_list = list( df_graph_1[ 'column' ].unique() )\n",
    "# column_list.insert( 0, \"Etiquetas de fila\" )"
   ]
  },
  {
   "cell_type": "code",
   "execution_count": 148,
   "metadata": {},
   "outputs": [
    {
     "data": {
      "text/html": [
       "<div>\n",
       "<style scoped>\n",
       "    .dataframe tbody tr th:only-of-type {\n",
       "        vertical-align: middle;\n",
       "    }\n",
       "\n",
       "    .dataframe tbody tr th {\n",
       "        vertical-align: top;\n",
       "    }\n",
       "\n",
       "    .dataframe thead th {\n",
       "        text-align: right;\n",
       "    }\n",
       "</style>\n",
       "<table border=\"1\" class=\"dataframe\">\n",
       "  <thead>\n",
       "    <tr style=\"text-align: right;\">\n",
       "      <th></th>\n",
       "      <th>Etiquetas de fila</th>\n",
       "      <th>L2</th>\n",
       "      <th>L3</th>\n",
       "      <th>L4</th>\n",
       "      <th>M1</th>\n",
       "      <th>M2</th>\n",
       "      <th>M3</th>\n",
       "      <th>M4</th>\n",
       "      <th>R1</th>\n",
       "      <th>R2</th>\n",
       "      <th>R3</th>\n",
       "      <th>R4</th>\n",
       "      <th>T2</th>\n",
       "      <th>T3</th>\n",
       "      <th>T4</th>\n",
       "    </tr>\n",
       "  </thead>\n",
       "  <tbody>\n",
       "    <tr>\n",
       "      <th>0</th>\n",
       "      <td>01/05/2022  09:00</td>\n",
       "      <td>100.0</td>\n",
       "      <td>NaN</td>\n",
       "      <td>NaN</td>\n",
       "      <td>NaN</td>\n",
       "      <td>NaN</td>\n",
       "      <td>NaN</td>\n",
       "      <td>NaN</td>\n",
       "      <td>NaN</td>\n",
       "      <td>NaN</td>\n",
       "      <td>NaN</td>\n",
       "      <td>NaN</td>\n",
       "      <td>NaN</td>\n",
       "      <td>NaN</td>\n",
       "      <td>NaN</td>\n",
       "    </tr>\n",
       "    <tr>\n",
       "      <th>1</th>\n",
       "      <td>01/05/2022  09:00</td>\n",
       "      <td>NaN</td>\n",
       "      <td>100.0</td>\n",
       "      <td>NaN</td>\n",
       "      <td>NaN</td>\n",
       "      <td>NaN</td>\n",
       "      <td>NaN</td>\n",
       "      <td>NaN</td>\n",
       "      <td>NaN</td>\n",
       "      <td>NaN</td>\n",
       "      <td>NaN</td>\n",
       "      <td>NaN</td>\n",
       "      <td>NaN</td>\n",
       "      <td>NaN</td>\n",
       "      <td>NaN</td>\n",
       "    </tr>\n",
       "    <tr>\n",
       "      <th>2</th>\n",
       "      <td>01/05/2022  09:00</td>\n",
       "      <td>NaN</td>\n",
       "      <td>NaN</td>\n",
       "      <td>100.0</td>\n",
       "      <td>NaN</td>\n",
       "      <td>NaN</td>\n",
       "      <td>NaN</td>\n",
       "      <td>NaN</td>\n",
       "      <td>NaN</td>\n",
       "      <td>NaN</td>\n",
       "      <td>NaN</td>\n",
       "      <td>NaN</td>\n",
       "      <td>NaN</td>\n",
       "      <td>NaN</td>\n",
       "      <td>NaN</td>\n",
       "    </tr>\n",
       "  </tbody>\n",
       "</table>\n",
       "</div>"
      ],
      "text/plain": [
       "   Etiquetas de fila     L2     L3     L4  M1  M2  M3  M4  R1  R2  R3  R4  T2  \\\n",
       "0  01/05/2022  09:00  100.0    NaN    NaN NaN NaN NaN NaN NaN NaN NaN NaN NaN   \n",
       "1  01/05/2022  09:00    NaN  100.0    NaN NaN NaN NaN NaN NaN NaN NaN NaN NaN   \n",
       "2  01/05/2022  09:00    NaN    NaN  100.0 NaN NaN NaN NaN NaN NaN NaN NaN NaN   \n",
       "\n",
       "   T3  T4  \n",
       "0 NaN NaN  \n",
       "1 NaN NaN  \n",
       "2 NaN NaN  "
      ]
     },
     "execution_count": 148,
     "metadata": {},
     "output_type": "execute_result"
    }
   ],
   "source": [
    "df_1.head(3)"
   ]
  },
  {
   "cell_type": "code",
   "execution_count": null,
   "metadata": {},
   "outputs": [],
   "source": [
    "dict_st2 = {}\n",
    "for item in range(1, len( column_list ) ):\n",
    "    dic\n",
    "    "
   ]
  },
  {
   "cell_type": "code",
   "execution_count": 163,
   "metadata": {},
   "outputs": [],
   "source": [
    "l2 = df_1[ (df_1['L2'] > 0)][[\"Etiquetas de fila\", \"L2\"]]\n",
    "l3 = df_1[ (df_1['L3'] > 0)][[\"Etiquetas de fila\", \"L3\"]]\n",
    "l4 = df_1[ (df_1['L4'] > 0)][[\"Etiquetas de fila\", \"L4\"]]\n"
   ]
  },
  {
   "cell_type": "code",
   "execution_count": 165,
   "metadata": {},
   "outputs": [],
   "source": [
    "# join the data frame\n",
    "#df.join(other.set_index('key'), on='key')\n",
    "l23 = l2.join( l3.set_index( 'Etiquetas de fila' ), on=\"Etiquetas de fila\" )"
   ]
  },
  {
   "cell_type": "code",
   "execution_count": null,
   "metadata": {},
   "outputs": [],
   "source": []
  },
  {
   "cell_type": "code",
   "execution_count": 57,
   "metadata": {},
   "outputs": [
    {
     "name": "stdout",
     "output_type": "stream",
     "text": [
      "<class 'pandas.core.frame.DataFrame'>\n",
      "RangeIndex: 2674 entries, 0 to 2673\n",
      "Data columns (total 3 columns):\n",
      " #   Column               Non-Null Count  Dtype \n",
      "---  ------               --------------  ----- \n",
      " 0   Etiquetas de fila    2674 non-null   object\n",
      " 1   Cell Avail excl BLU  2674 non-null   int64 \n",
      " 2   Sector               2674 non-null   object\n",
      "dtypes: int64(1), object(2)\n",
      "memory usage: 62.8+ KB\n"
     ]
    }
   ],
   "source": [
    "df_graph_1.info()"
   ]
  },
  {
   "cell_type": "code",
   "execution_count": 82,
   "metadata": {},
   "outputs": [
    {
     "data": {
      "text/plain": [
       "12      100\n",
       "26      100\n",
       "40      100\n",
       "54      100\n",
       "68      100\n",
       "       ... \n",
       "2616    100\n",
       "2630    100\n",
       "2644    100\n",
       "2658    100\n",
       "2672    100\n",
       "Name: Cell Avail excl BLU, Length: 191, dtype: int64"
      ]
     },
     "execution_count": 82,
     "metadata": {},
     "output_type": "execute_result"
    }
   ],
   "source": [
    "df_graph_1[ df_graph_1[\"column\"] == \"T3\" ][\"Cell Avail excl BLU\"]"
   ]
  },
  {
   "cell_type": "code",
   "execution_count": null,
   "metadata": {},
   "outputs": [],
   "source": []
  },
  {
   "cell_type": "code",
   "execution_count": null,
   "metadata": {},
   "outputs": [],
   "source": []
  },
  {
   "cell_type": "code",
   "execution_count": 1,
   "metadata": {},
   "outputs": [
    {
     "name": "stdout",
     "output_type": "stream",
     "text": [
      "\n",
      "\n",
      "********************************************************\n",
      "4G data injection...\n",
      "********************************************************\n",
      "output/BOG.Puente Grande_Alertas Tempranas_4G.xlsx\n",
      "output/BOG.CC Titan-2_Alertas Tempranas_4G.xlsx\n",
      "output/BCA.Terminal_Alertas Tempranas_4G.xlsx\n",
      "output/BOG.Atavanza_Alertas Tempranas_4G.xlsx\n"
     ]
    }
   ],
   "source": [
    "# option 2\n",
    "dest_path = r\"output/\"\n",
    "\n",
    "#############################################################\n",
    "#**** Graphs*****\n",
    "#############################################################\n",
    "\n",
    "print(\"\\n\")\n",
    "print(\"********************************************************\")\n",
    "print(\"graphics for 4g...\")\n",
    "print(\"********************************************************\")\n",
    "\n",
    "########## Data injection FAULTS LTE #########\n",
    "# loop through existing files\n",
    "for file_name in os.listdir(dest_path):\n",
    "    if \"4G\" in file_name:\n",
    "        # file filtered path\n",
    "        path_file_4g = dest_path + file_name\n",
    "        \n",
    "        print( path_file_4g )\n",
    "        \n",
    "    #     for site in dic_lte_faults:\n",
    "    #         if site in path_file_4g:\n",
    "    #             # data injection\n",
    "    #             with pd.ExcelWriter( \n",
    "    #                                 path_file_4g,\n",
    "    #                                 mode='a', \n",
    "    #                                 engine='openpyxl', \n",
    "    #                                 if_sheet_exists='overlay' ) as writer:\n",
    "                    \n",
    "    #                 # reading the dimensions of the existing file\n",
    "    #                 reader_faults_lte = pd.read_excel( path_file_4g, sheet_name='Data2' )\n",
    "    #                 start_row_faults_lte = len( reader_faults_lte ) + 1\n",
    "                    \n",
    "    #                 # fill the specific df in an existing sheet\n",
    "    #                 dic_lte_faults[ site ].to_excel( \n",
    "    #                                             writer, \n",
    "    #                                             sheet_name = 'Data2', \n",
    "    #                                             index = False,\n",
    "    #                                             header = None,\n",
    "    #                                             startrow = start_row_faults_lte\n",
    "    #                                             )\n",
    "                      \n",
    "    #         else:\n",
    "    #             pass\n",
    "                \n",
    "    # else:\n",
    "    #     pass\n",
    "\n"
   ]
  },
  {
   "cell_type": "code",
   "execution_count": null,
   "metadata": {},
   "outputs": [],
   "source": [
    "\n"
   ]
  },
  {
   "cell_type": "code",
   "execution_count": null,
   "metadata": {},
   "outputs": [],
   "source": []
  }
 ],
 "metadata": {
  "interpreter": {
   "hash": "3313d7862e35f23cb796a0d5e1a05f5386948db6518b51457360428deb8d3fb3"
  },
  "kernelspec": {
   "display_name": "Python 3.8.3 64-bit ('base': conda)",
   "language": "python",
   "name": "python3"
  },
  "language_info": {
   "codemirror_mode": {
    "name": "ipython",
    "version": 3
   },
   "file_extension": ".py",
   "mimetype": "text/x-python",
   "name": "python",
   "nbconvert_exporter": "python",
   "pygments_lexer": "ipython3",
   "version": "3.8.3"
  },
  "orig_nbformat": 4
 },
 "nbformat": 4,
 "nbformat_minor": 2
}

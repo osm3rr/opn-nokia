{
 "cells": [
  {
   "cell_type": "markdown",
   "metadata": {},
   "source": [
    "# Script OPN - Files consolidation"
   ]
  },
  {
   "cell_type": "code",
   "execution_count": 2,
   "metadata": {},
   "outputs": [],
   "source": [
    "# necessary libraries\n",
    "import pandas as pd\n",
    "import numpy as np\n",
    "import glob"
   ]
  },
  {
   "cell_type": "code",
   "execution_count": 8,
   "metadata": {},
   "outputs": [
    {
     "name": "stdout",
     "output_type": "stream",
     "text": [
      "shape df_faults_lte_1: (1801, 12), file: 1\n",
      "shape df_gsm_1: (2865, 36), file: 1\n",
      "shape df_wcdma_1: (11365, 54), file: 1\n",
      "shape df_faults_lte_total: (3602, 12), file: 2\n",
      "shape df_gsm_total: (5730, 36), file: 1\n",
      "shape df_wbts_1: (2712, 11), file: 1\n",
      "shape df_faults_lte_total: (5403, 12), file: 3\n",
      "shape df_lte_1: (15232, 36), file: 1\n",
      "shape df_faults_lte_total: (7204, 12), file: 4\n",
      "shape df_wcdma_total: (22730, 54), file: 2\n",
      "shape df_lte_total: (30464, 36), file: 2\n",
      "shape df_wbts_total: (5424, 11), file: 2\n",
      "shape df_faults_lte_total: (9005, 12), file: 5\n"
     ]
    }
   ],
   "source": [
    "# ruta base de la ubicación de los files\n",
    "path = \"/home/opm/Documentos-opm/OPN_COLOMBIA/ANALISYS/input_files\"\n",
    "\n",
    "# Lista con el nombre de todos los archivos excel\n",
    "xlsx_files_list = glob.glob( path + \"/*.xlsx\" )\n",
    "\n",
    "# identifiers by technology\n",
    "faults_lte = \"Fallas_TX_LTE\"\n",
    "gsm_monitoring = \"GSM_NPO_Monitoring_v4\"\n",
    "lte_monitoring = \"LTE_FL16A_NPO_Monitoring_V4\"\n",
    "wbts_monitoring = \"WBTS_WCDMA17_NPO_MONITORING\"\n",
    "wcdma_monitoring = \"WCDMA17_NPO_Monitoring_V4\"\n",
    "\n",
    "# Revisar cada archivo excel según tecnologia\n",
    "\n",
    "# initialize counters\n",
    "faults_lte_count = 0\n",
    "gsm_monitoring_count = 0\n",
    "lte_monitoring_count = 0\n",
    "wbts_monitoring_count = 0\n",
    "wcdma_monitoring_count = 0\n",
    "\n",
    "# file identification by technology\n",
    "for xlsx_file in range( len( xlsx_files_list ) ):\n",
    "    \n",
    "    # file search\n",
    "    if faults_lte in xlsx_files_list[ xlsx_file ]:\n",
    "                \n",
    "        # read file\n",
    "        if faults_lte_count < 1:\n",
    "            \n",
    "            faults_lte_count += 1\n",
    "            \n",
    "            df_faults_lte_1 = pd.read_excel( io=xlsx_files_list[ xlsx_file ] )\n",
    "            \n",
    "            df_faults_lte_1 = df_faults_lte_1.drop( labels=0, axis=0 )\n",
    "            \n",
    "            # validation print\n",
    "            print( f'shape df_faults_lte_1: {df_faults_lte_1.shape}, file: {faults_lte_count}' )\n",
    "            #print( f'Fault LTE file: {faults_lte_count}' )\n",
    "        else:\n",
    "            df_faults_lte_2 = pd.read_excel( io=xlsx_files_list[ xlsx_file ] )\n",
    "            \n",
    "            faults_lte_count += 1\n",
    "            \n",
    "            df_faults_lte_2 = df_faults_lte_2.drop( labels=0, axis=0 )\n",
    "            \n",
    "            df_faults_lte_total = pd.concat( [ df_faults_lte_1, df_faults_lte_2 ], ignore_index=True )\n",
    "            \n",
    "            df_faults_lte_1 = df_faults_lte_total.copy()\n",
    "            # validation print    \n",
    "            #print( f'shape df_faults_lte_total: {df_lte_total.shape}' )\n",
    "            print( f'shape df_faults_lte_total: {df_faults_lte_total.shape}, file: {faults_lte_count}' )\n",
    "            #print( f'Fault LTE file: {faults_lte_count}' )\n",
    "        \n",
    "        \n",
    "    ## search GSM monitoring***\n",
    "    elif gsm_monitoring in xlsx_files_list[ xlsx_file ]:\n",
    "        \n",
    "        # read file\n",
    "        if gsm_monitoring_count < 1:\n",
    "            \n",
    "            gsm_monitoring_count += 1\n",
    "            \n",
    "            df_gsm_1 = pd.read_excel( io=xlsx_files_list[ xlsx_file ] )\n",
    "            \n",
    "            df_gsm_1 = df_gsm_1.drop( labels=0, axis=0 )\n",
    "            # validation print\n",
    "            print( f'shape df_gsm_1: {df_gsm_1.shape}, file: {gsm_monitoring_count}' )\n",
    "            #print( f'GSM files: {gsm_monitoring_count}' )\n",
    "            \n",
    "        else:\n",
    "            df_gsm_2 = pd.read_excel( io=xlsx_files_list[ xlsx_file ] )\n",
    "            \n",
    "            df_gsm_2 = df_gsm_2.drop( labels=0, axis=0 )\n",
    "            \n",
    "            df_gsm_total = pd.concat( [ df_gsm_1, df_gsm_2 ], ignore_index=True )\n",
    "            \n",
    "            df_gsm_1 = df_gsm_total.copy()\n",
    "            # validation print    \n",
    "            print( f'shape df_gsm_total: {df_gsm_total.shape}, file: {gsm_monitoring_count}' )\n",
    "            #print( f'GSM file: {gsm_monitoring_count}' )\n",
    "                \n",
    "            \n",
    "    ## search LTE monitoring \n",
    "    elif lte_monitoring in xlsx_files_list[ xlsx_file ]:\n",
    "        \n",
    "        # read file\n",
    "        if lte_monitoring_count < 1:\n",
    "            \n",
    "            lte_monitoring_count += 1\n",
    "            \n",
    "            df_lte_1 = pd.read_excel( io=xlsx_files_list[ xlsx_file ] )\n",
    "            \n",
    "            df_lte_1 = df_lte_1.drop( labels=0, axis=0 )\n",
    "            # validation print\n",
    "            print( f'shape df_lte_1: {df_lte_1.shape}, file: {lte_monitoring_count}' )\n",
    "            #print( f'LTE file: {lte_monitoring_count}' )\n",
    "            \n",
    "        else:\n",
    "            df_lte_2 = pd.read_excel( io=xlsx_files_list[ xlsx_file ] )\n",
    "            \n",
    "            lte_monitoring_count += 1\n",
    "            \n",
    "            df_lte_2 = df_lte_2.drop( labels=0, axis=0 )\n",
    "            \n",
    "            df_lte_total = pd.concat( [ df_lte_1, df_lte_2 ], ignore_index=True )\n",
    "            \n",
    "            df_lte_1 = df_lte_total.copy()\n",
    "            # validation print    \n",
    "            print( f'shape df_lte_total: {df_lte_total.shape}, file: {lte_monitoring_count}' )\n",
    "            #print( f'LTE file: {lte_monitoring_count}' )\n",
    "        \n",
    "                \n",
    "    ## search WBTS monitoring\n",
    "    elif wbts_monitoring in xlsx_files_list[ xlsx_file ]:\n",
    "        \n",
    "        # read file\n",
    "        if wbts_monitoring_count < 1:\n",
    "            \n",
    "            wbts_monitoring_count += 1\n",
    "            \n",
    "            df_wbts_1 = pd.read_excel( io=xlsx_files_list[ xlsx_file ] )\n",
    "            \n",
    "            df_wbts_1 = df_wbts_1.drop( labels=0, axis=0 )\n",
    "            # validation print\n",
    "            print( f'shape df_wbts_1: {df_wbts_1.shape}, file: {wbts_monitoring_count}' )\n",
    "            #print( f'WBTS file: {wbts_monitoring_count}' )\n",
    "            \n",
    "        else:\n",
    "            df_wbts_2 = pd.read_excel( io=xlsx_files_list[ xlsx_file ] )\n",
    "            \n",
    "            wbts_monitoring_count += 1\n",
    "            \n",
    "            df_wbts_2 = df_wbts_2.drop( labels=0, axis=0 )\n",
    "            \n",
    "            df_wbts_total = pd.concat( [ df_wbts_1, df_wbts_2 ], ignore_index=True )\n",
    "            \n",
    "            df_wbts_1 = df_wbts_total.copy()\n",
    "            # validation print    \n",
    "            print( f'shape df_wbts_total: {df_wbts_total.shape}, file: {wbts_monitoring_count}' )\n",
    "            #print( f'WBTS file: {wbts_monitoring_count}' )\n",
    "\n",
    "        \n",
    "    ## search WCDMA monitoring\n",
    "    elif wcdma_monitoring in xlsx_files_list[ xlsx_file ]:\n",
    "        \n",
    "        # read file\n",
    "        if wcdma_monitoring_count < 1:\n",
    "            \n",
    "            wcdma_monitoring_count += 1\n",
    "            \n",
    "            df_wcdma_1 = pd.read_excel( io=xlsx_files_list[ xlsx_file ] )\n",
    "            \n",
    "            df_wcdma_1 = df_wcdma_1.drop( labels=0, axis=0 )\n",
    "            # validation print\n",
    "            print( f'shape df_wcdma_1: {df_wcdma_1.shape}, file: {wcdma_monitoring_count}' )\n",
    "            #print( f'WBTS file: {wbts_monitoring_count}' )\n",
    "            \n",
    "        else:\n",
    "            df_wcdma_2 = pd.read_excel( io=xlsx_files_list[ xlsx_file ] )\n",
    "            \n",
    "            wcdma_monitoring_count += 1\n",
    "            \n",
    "            df_wcdma_2 = df_wcdma_2.drop( labels=0, axis=0 )\n",
    "            \n",
    "            df_wcdma_total = pd.concat( [ df_wcdma_1, df_wcdma_2 ], ignore_index=True )\n",
    "            \n",
    "            df_wcdma_1 = df_wcdma_total.copy()\n",
    "            # validation print    \n",
    "            print( f'shape df_wcdma_total: {df_wcdma_total.shape}, file: {wcdma_monitoring_count}' )\n",
    "            #print( f'WBTS file: {wbts_monitoring_count}' )\n",
    "\n",
    "    \n",
    "    ## No valid files\n",
    "    else:\n",
    "        #print( \"No valid files\" )\n",
    "        pass\n"
   ]
  },
  {
   "cell_type": "code",
   "execution_count": 111,
   "metadata": {},
   "outputs": [],
   "source": [
    "# print(df_lte_total.columns.to_list())"
   ]
  },
  {
   "cell_type": "code",
   "execution_count": 112,
   "metadata": {},
   "outputs": [],
   "source": [
    "# df_lte_total.info()"
   ]
  },
  {
   "cell_type": "markdown",
   "metadata": {},
   "source": [
    "## Revisión de los nombres de los atributos por tecnología"
   ]
  },
  {
   "cell_type": "markdown",
   "metadata": {},
   "source": [
    "#### Revisión de los atributos para FAULTS LTE:\n",
    "    * En caso no existir el atributo \"LNBTS type\" agregar en la tercera posición de izquierda a derecha\n",
    "    * Cambiar el nombre de \"avgRTT_15Min\" a \"avgRTT_15Min (M51132C0)\"\n",
    "    * Cambiar el nombre de \"maxRTT_15Min\" a \"maxRTT_15Min (M51132C1)\""
   ]
  },
  {
   "cell_type": "code",
   "execution_count": null,
   "metadata": {},
   "outputs": [],
   "source": []
  },
  {
   "cell_type": "code",
   "execution_count": 13,
   "metadata": {},
   "outputs": [
    {
     "name": "stdout",
     "output_type": "stream",
     "text": [
      "*******************************\n",
      "chequeando correspondencia de parámetros 4G (fallas lte)...\n",
      "*******************************\n",
      "correspondencia de parámetros 4G (fallas lte): ok!!! \n"
     ]
    }
   ],
   "source": [
    "# ** revisión de los nombres de los atributos leidos en fallas lte **\n",
    "print( \"*******************************\" )\n",
    "print( \"chequeando correspondencia de parámetros 4G (fallas lte)...\" )\n",
    "\n",
    "\n",
    "# atributos disponibles en fallas lte\n",
    "\n",
    "attribte_list_faults_lte = df_faults_lte_total.columns.to_list()\n",
    "\n",
    "# existencia del atributo \"LNBTS type\"\n",
    "if \"LNBTS type\" not in attribte_list_faults_lte:\n",
    "    \n",
    "    # determina total de filas\n",
    "    rows_faults_lte = df_faults_lte_total.shape\n",
    "    \n",
    "    # lista con el total de valores NAN\n",
    "    lnbts_type_faults_lte = [ np.NaN for value in range( rows_faults_lte[0] ) ]\n",
    "    \n",
    "    # insertar en el df la cantidad de valores vacios\n",
    "    df_faults_lte_total.insert(\n",
    "                                loc = 2, \n",
    "                                column = \"LNBTS type\", \n",
    "                                value = lnbts_type_faults_lte\n",
    "                               )\n",
    "\n",
    "# en caso que exista el archvivo no se realiza ninguna acción\n",
    "else:\n",
    "    pass\n",
    "\n",
    "# Cambio de nombre de los atributos de acuerdo al template\n",
    "df_faults_lte_total = df_faults_lte_total.rename( columns = \n",
    "                                                    { \n",
    "                                                    \"avgRTT_15Min\" : \"avgRTT_15Min (M51132C0)\", \n",
    "                                                    \"maxRTT_15Min\" : \"maxRTT_15Min (M51132C1)\"\n",
    "                                                    }\n",
    "                                                )\n",
    "\n",
    "print( \"*******************************\" )\n",
    "print( \"correspondencia de parámetros 4G (fallas lte): ok!!! \" )"
   ]
  },
  {
   "cell_type": "code",
   "execution_count": 11,
   "metadata": {},
   "outputs": [
    {
     "name": "stdout",
     "output_type": "stream",
     "text": [
      "<class 'pandas.core.frame.DataFrame'>\n",
      "RangeIndex: 9005 entries, 0 to 9004\n",
      "Data columns (total 13 columns):\n",
      " #   Column                          Non-Null Count  Dtype         \n",
      "---  ------                          --------------  -----         \n",
      " 0   Period start time               9005 non-null   datetime64[ns]\n",
      " 1   MRBTS name                      9005 non-null   object        \n",
      " 2   LNBTS type                      0 non-null      float64       \n",
      " 3   LNBTS name                      9005 non-null   object        \n",
      " 4   E-UTRAN HP att, inter eNB S1    8735 non-null   object        \n",
      " 5   SCTP S1 succ trans R            8990 non-null   object        \n",
      " 6   ATT_INTER_ENB_HO (M8014C6)      8735 non-null   object        \n",
      " 7   X2 stp att                      9005 non-null   object        \n",
      " 8   SCTP X2 succ trans R            8985 non-null   object        \n",
      " 9   Inter eNB E-UTRAN tot HO SR X2  8735 non-null   object        \n",
      " 10  TWAMP tx SR                     0 non-null      object        \n",
      " 11  avgRTT_15Min (M51132C0)         0 non-null      object        \n",
      " 12  maxRTT_15Min (M51132C1)         0 non-null      object        \n",
      "dtypes: datetime64[ns](1), float64(1), object(11)\n",
      "memory usage: 914.7+ KB\n"
     ]
    }
   ],
   "source": [
    "# verification print\n",
    "df_faults_lte_total.info()"
   ]
  },
  {
   "cell_type": "markdown",
   "metadata": {},
   "source": [
    "### Revisión de los atributos para LTE:\n",
    "    * En caso no existir el atributo \"LNBTS type\" agregar en la tercera posición de izquierda a derecha\n",
    "    \n",
    "    * Renombrar los siguientes atributos:\n",
    "        - \"AVG_RTWP_RX_ANT_1 (M8005C306)\" => \"AVG_RTWP_RX_ANT_1\"\n",
    "        - \"AVG_RTWP_RX_ANT_2 (M8005C307)\" => \"AVG_RTWP_RX_ANT_2\"\n",
    "        - \"AVG_RTWP_RX_ANT_3 (M8005C308)\" => \"AVG_RTWP_RX_ANT_3\"\n",
    "        - \"AVG_RTWP_RX_ANT_4 (M8005C309)\" => \"AVG_RTWP_RX_ANT_4\"\n",
    "    \n",
    "    * Agregar los siguintes atributos formulados:\n",
    "        - AVG_RTWP_RX_ANT_1 (M8005C306) = AVG_RTWP_RX_ANT_1 / 10\n",
    "        - AVG_RTWP_RX_ANT_2 (M8005C307) = AVG_RTWP_RX_ANT_2 / 10\n",
    "        - AVG_RTWP_RX_ANT_3 (M8005C308) = AVG_RTWP_RX_ANT_3 / 10\n",
    "        - AVG_RTWP_RX_ANT_4 (M8005C309) = AVG_RTWP_RX_ANT_4 / 10\n",
    "\n",
    "    * Agregar el atributo 'Sector' con la siguiente consideración:\n",
    "        - Sector => últimos dos caracteres del atributo 'LNCEL name'\n",
    "        "
   ]
  },
  {
   "cell_type": "code",
   "execution_count": 10,
   "metadata": {},
   "outputs": [],
   "source": [
    "# control flag for tests in this notebook\n",
    "rename_count_lte = 0"
   ]
  },
  {
   "cell_type": "code",
   "execution_count": 12,
   "metadata": {},
   "outputs": [
    {
     "name": "stdout",
     "output_type": "stream",
     "text": [
      "*******************************\n",
      "chequeando correspondencia de parámetros 4G (lte)...\n",
      "*******************************\n",
      "correspondencia de parámetros 4G (lte): ok!!! \n"
     ]
    }
   ],
   "source": [
    "# ** arreglar los nombres de los atributos leidos en lte **\n",
    "\n",
    "print( \"*******************************\" )\n",
    "print( \"chequeando correspondencia de parámetros 4G (lte)...\" )\n",
    "\n",
    "# atributos disponibles en lte\n",
    "attribte_list_lte = df_lte_total.columns.to_list()\n",
    "\n",
    "# existencia del atributo \"LNBTS type\"\n",
    "if \"LNBTS type\" not in attribte_list_lte:\n",
    "    \n",
    "    # determina total de filas\n",
    "    rows_lte = df_lte_total.shape\n",
    "    \n",
    "    # lista con el total de valores NAN\n",
    "    lnbts_type_lte = [ np.NaN for value in range( rows_lte[0] ) ]\n",
    "    \n",
    "    # insertar en el df la cantidad de valores vacios\n",
    "    df_lte_total.insert(\n",
    "                                loc = 2, \n",
    "                                column = \"LNBTS type\", \n",
    "                                value = lnbts_type_lte\n",
    "                               )\n",
    "# en caso que exista el archvivo no se realiza ninguna acción\n",
    "else:\n",
    "    pass\n",
    "\n",
    "# # Cambio de nombre de los atributos de acuerdo al template\n",
    "\n",
    "if rename_count_lte < 1:\n",
    "    # print( \"rename: \", rename_count_lte )\n",
    "    rename_count_lte += 1\n",
    "    \n",
    "    df_lte_total = df_lte_total.rename( columns = { \n",
    "                                                \"AVG_RTWP_RX_ANT_1 (M8005C306)\" : \"AVG_RTWP_RX_ANT_1\", \n",
    "                                                \"AVG_RTWP_RX_ANT_2 (M8005C307)\" : \"AVG_RTWP_RX_ANT_2\", \n",
    "                                                \"AVG_RTWP_RX_ANT_3 (M8005C308)\" : \"AVG_RTWP_RX_ANT_3\", \n",
    "                                                \"AVG_RTWP_RX_ANT_4 (M8005C309)\" : \"AVG_RTWP_RX_ANT_4\"\n",
    "                                                }\n",
    "                                    )\n",
    "else:\n",
    "    pass\n",
    "\n",
    "# se actualiza la lista de los nombres de columnas\n",
    "attribte_list_lte = df_lte_total.columns.to_list()\n",
    "\n",
    "\n",
    "# Revisar la existencia de los atributos, en caso de no existir se agregan\n",
    "if 'AVG_RTWP_RX_ANT_1 (M8005C306)' not in attribte_list_lte:\n",
    "    \n",
    "   df_lte_total[ 'AVG_RTWP_RX_ANT_1 (M8005C306)' ] = df_lte_total[ 'AVG_RTWP_RX_ANT_1' ] / 10\n",
    "\n",
    "else:\n",
    "    pass\n",
    "\n",
    "if 'AVG_RTWP_RX_ANT_2 (M8005C307)' not in attribte_list_lte:\n",
    "    \n",
    "    df_lte_total[ 'AVG_RTWP_RX_ANT_2 (M8005C307)' ] = df_lte_total[ 'AVG_RTWP_RX_ANT_2' ] / 10\n",
    "    \n",
    "else:\n",
    "    pass\n",
    "\n",
    "\n",
    "if 'AVG_RTWP_RX_ANT_3 (M8005C308)' not in attribte_list_lte:\n",
    "    \n",
    "    df_lte_total[ 'AVG_RTWP_RX_ANT_3 (M8005C308)' ] = df_lte_total[ 'AVG_RTWP_RX_ANT_3' ] / 10\n",
    "    \n",
    "else:\n",
    "    pass\n",
    "\n",
    "if 'AVG_RTWP_RX_ANT_4 (M8005C309)' not in attribte_list_lte:\n",
    "    \n",
    "    df_lte_total[ 'AVG_RTWP_RX_ANT_4 (M8005C309)' ] = df_lte_total[ 'AVG_RTWP_RX_ANT_4' ] / 10\n",
    "    \n",
    "else:\n",
    "    pass\n",
    "\n",
    "\n",
    "if 'Sector' not in attribte_list_lte:\n",
    "    # \"Sector\": Dos últimos caracteres del atributo 'LNCEL name'\n",
    "    df_lte_total[ 'Sector' ] = df_lte_total[ 'LNCEL name' ].apply( lambda x: x[ -2: ] )\n",
    "else:\n",
    "    pass\n",
    "\n",
    "# se actualiza la lista de los nombres de columnas\n",
    "attribte_list_lte = df_lte_total.columns.to_list()\n",
    "\n",
    "print( \"*******************************\" )\n",
    "print( \"correspondencia de parámetros 4G (lte): ok!!! \" )"
   ]
  },
  {
   "cell_type": "code",
   "execution_count": 14,
   "metadata": {},
   "outputs": [
    {
     "name": "stdout",
     "output_type": "stream",
     "text": [
      "<class 'pandas.core.frame.DataFrame'>\n",
      "RangeIndex: 30464 entries, 0 to 30463\n",
      "Data columns (total 42 columns):\n",
      " #   Column                              Non-Null Count  Dtype         \n",
      "---  ------                              --------------  -----         \n",
      " 0   Period start time                   30464 non-null  datetime64[ns]\n",
      " 1   MRBTS/SBTS name                     30464 non-null  object        \n",
      " 2   LNBTS type                          0 non-null      float64       \n",
      " 3   LNBTS name                          30464 non-null  object        \n",
      " 4   LNCEL name                          30464 non-null  object        \n",
      " 5   Cell Avail excl BLU                 30070 non-null  object        \n",
      " 6   RACH stp att                        29198 non-null  object        \n",
      " 7   RACH Stp Completion SR              29194 non-null  object        \n",
      " 8   RRC stp att                         29222 non-null  object        \n",
      " 9   Total E-UTRAN RRC conn stp SR       29202 non-null  object        \n",
      " 10  E-UTRAN Data Radio Bearer Attempts  29222 non-null  object        \n",
      " 11  Data RB stp SR                      29210 non-null  object        \n",
      " 12  E-UTRAN E-RAB Setup Attempts        29222 non-null  object        \n",
      " 13  E-UTRAN E-RAB stp SR                29198 non-null  object        \n",
      " 14  E-UTRAN HO Preparations, intra eNB  29222 non-null  object        \n",
      " 15  Intra eNB HO SR total               28036 non-null  object        \n",
      " 16  Inter eNB E-UTRAN tot HO SR X2      29134 non-null  object        \n",
      " 17  E-UTRAN HP att, inter eNB S1        29222 non-null  object        \n",
      " 18  Inter-freq HO att                   29222 non-null  object        \n",
      " 19  E-UTRAN Inter-Freq HO SR            27832 non-null  object        \n",
      " 20  Avg PDCP cell thp UL                29190 non-null  object        \n",
      " 21  Avg PDCP cell thp DL                29198 non-null  object        \n",
      " 22  PDCP SDU Volume, DL                 29198 non-null  object        \n",
      " 23  PDCP SDU Volume, UL                 29198 non-null  object        \n",
      " 24  Average CQI                         29198 non-null  object        \n",
      " 25  AVG_RTWP_RX_ANT_1                   29194 non-null  object        \n",
      " 26  AVG_RTWP_RX_ANT_2                   29194 non-null  object        \n",
      " 27  AVG_RTWP_RX_ANT_3                   22220 non-null  object        \n",
      " 28  AVG_RTWP_RX_ANT_4                   22220 non-null  object        \n",
      " 29  Avg UE distance                     27148 non-null  object        \n",
      " 30  VoLTE total traffic                 29198 non-null  object        \n",
      " 31  Avg active users per cell           30464 non-null  object        \n",
      " 32  E-RAB DR, RAN view                  29200 non-null  object        \n",
      " 33  Total E-UTRAN RRC conn stp SR.1     29202 non-null  object        \n",
      " 34  Max PDCP Thr DL                     30464 non-null  object        \n",
      " 35  E-RAB norm Rel R EPC init           29200 non-null  object        \n",
      " 36  Max nr RRC conn UEs per cell        30464 non-null  object        \n",
      " 37  AVG_RTWP_RX_ANT_1 (M8005C306)       29194 non-null  object        \n",
      " 38  AVG_RTWP_RX_ANT_2 (M8005C307)       29194 non-null  object        \n",
      " 39  AVG_RTWP_RX_ANT_3 (M8005C308)       22220 non-null  object        \n",
      " 40  AVG_RTWP_RX_ANT_4 (M8005C309)       22220 non-null  object        \n",
      " 41  Sector                              30464 non-null  object        \n",
      "dtypes: datetime64[ns](1), float64(1), object(40)\n",
      "memory usage: 9.8+ MB\n"
     ]
    }
   ],
   "source": [
    "# verification print\n",
    "df_lte_total.info()"
   ]
  },
  {
   "cell_type": "markdown",
   "metadata": {},
   "source": [
    "### Revisión de los atributos para WBTS y WCDMA (3G):\n",
    "Hay correspondencia uno a uno de forma, orden y fondo entre los atributos de los archivos de entrada para 3G y los atributos esperados en el template de alertas tempranas 3G.\n"
   ]
  },
  {
   "cell_type": "code",
   "execution_count": 8,
   "metadata": {},
   "outputs": [],
   "source": [
    "print( \"*******************************\" )\n",
    "print( \"chequeando correspondencia de parámetros 3G (WBTS, WCDMA)...\" )\n",
    "\n",
    "\n",
    "print( \"*******************************\" )\n",
    "print( \"correspondencia de parámetros 3G (WBTS, WCDMA): ok!!! \" )"
   ]
  },
  {
   "cell_type": "markdown",
   "metadata": {},
   "source": [
    "### Revisión de los atributos para GSM (2G):\n",
    "#### En caso no existir el atributo \"Zlinea\", en el archivo GSM de entrada, agregar al final de los atributos del template 2G."
   ]
  },
  {
   "cell_type": "code",
   "execution_count": 15,
   "metadata": {},
   "outputs": [
    {
     "name": "stdout",
     "output_type": "stream",
     "text": [
      "*******************************\n",
      "chequeando correspondencia de parámetros 2G (GSM)...\n",
      "*******************************\n",
      "correspondencia de parámetros 2G (GSM): ok!!!\n"
     ]
    }
   ],
   "source": [
    "# ** arreglar de forma, orden y fondo los atributos leidos el archivo GSM de entrada **\n",
    "print( \"*******************************\" )\n",
    "print( \"chequeando correspondencia de parámetros 2G (GSM)...\" )\n",
    "\n",
    "# atributos disponibles en gsm\n",
    "attribte_list_gsm = df_gsm_total.columns.to_list()\n",
    "\n",
    "# verificar existencia del atributo \"Zlinea\"\n",
    "if \"Zlinea\" not in attribte_list_gsm:\n",
    "    \n",
    "    # determina total de filas\n",
    "    rows_gsm = df_gsm_total.shape\n",
    "    \n",
    "    # lista con el total de valores NAN\n",
    "    zlinea_gsm = [ np.NaN for value in range( rows_gsm[0] ) ]\n",
    "    \n",
    "    # insertar en el df la cantidad de valores vacios\n",
    "    df_gsm_total[ \"Zlinea\" ] = zlinea_gsm\n",
    "    \n",
    "#     df_gsm_total.insert(\n",
    "#                                 loc = 2, # validar cómo se ubica la última posición del df\n",
    "#                                 column = \"Zlinea\", \n",
    "#                                 value = zlinea_gsm\n",
    "#                                )\n",
    "# # en caso que exista el archvivo no se realiza ninguna acción\n",
    "else:\n",
    "    pass\n",
    "print( \"*******************************\" )\n",
    "print( \"correspondencia de parámetros 2G (GSM): ok!!!\" )"
   ]
  },
  {
   "cell_type": "code",
   "execution_count": 16,
   "metadata": {},
   "outputs": [
    {
     "name": "stdout",
     "output_type": "stream",
     "text": [
      "<class 'pandas.core.frame.DataFrame'>\n",
      "RangeIndex: 5730 entries, 0 to 5729\n",
      "Data columns (total 37 columns):\n",
      " #   Column                                         Non-Null Count  Dtype         \n",
      "---  ------                                         --------------  -----         \n",
      " 0   Period start time                              5730 non-null   datetime64[ns]\n",
      " 1   BSC name                                       5730 non-null   object        \n",
      " 2   BCF name                                       5730 non-null   object        \n",
      " 3   BTS name                                       5730 non-null   object        \n",
      " 4   TCH drop call (dropped conversation)           4222 non-null   object        \n",
      " 5   TCH call blocking                              5730 non-null   object        \n",
      " 6   SDCCH real blocking                            5730 non-null   object        \n",
      " 7   DELETE_PAGING_COMMAND (c003038)                4256 non-null   object        \n",
      " 8   DL cumulative quality ratio in class 4         3476 non-null   object        \n",
      " 9   UL cumulative quality ratio in class 4         3476 non-null   object        \n",
      " 10  Average unavailable TCH on normal TRXs         5730 non-null   object        \n",
      " 11  UL BER ratio                                   5730 non-null   object        \n",
      " 12  DL BER                                         5730 non-null   object        \n",
      " 13  %Denied                                        5730 non-null   object        \n",
      " 14  SDCCH transactions ended, fail Abis interface  4222 non-null   object        \n",
      " 15  Average CS traffic per BTS                     5730 non-null   object        \n",
      " 16  SDCCH_REQ (c057017)                            4222 non-null   object        \n",
      " 17  UL mlslot allocation blocking                  4256 non-null   object        \n",
      " 18  Downlink multislot allocation blocking         5730 non-null   object        \n",
      " 19  UL TBFs pr timeslot                            4256 non-null   object        \n",
      " 20  DL TBFs pr timeslot                            4256 non-null   object        \n",
      " 21  UL GPRS RLC throughput                         4256 non-null   object        \n",
      " 22  UL EGPRS RLC throughput                        5730 non-null   object        \n",
      " 23  DL GPRS RLC throughput                         4256 non-null   object        \n",
      " 24  DL EGPRS RLC throughput                        5730 non-null   object        \n",
      " 25  TCH drop call ratio, before re-est             3206 non-null   object        \n",
      " 26  SDCCH real blocking.1                          5730 non-null   object        \n",
      " 27  TCH availability ratio                         5730 non-null   object        \n",
      " 28  Data service availability ratio                5730 non-null   object        \n",
      " 29  Average MS-BS distance                         5730 non-null   object        \n",
      " 30  DL EGPRS RLC payload                           4200 non-null   object        \n",
      " 31  UL EGPRS RLC payload                           4200 non-null   object        \n",
      " 32  DL GPRS RLC payload                            4256 non-null   object        \n",
      " 33  UL GPRS RLC payload                            4256 non-null   object        \n",
      " 34  SDCCH_ABIS_FAIL (c001033)                      5730 non-null   object        \n",
      " 35  TCH traffic time, all calls                    5730 non-null   object        \n",
      " 36  Zlinea                                         0 non-null      float64       \n",
      "dtypes: datetime64[ns](1), float64(1), object(35)\n",
      "memory usage: 1.6+ MB\n"
     ]
    }
   ],
   "source": [
    "# verification print\n",
    "df_gsm_total.info()"
   ]
  },
  {
   "cell_type": "code",
   "execution_count": null,
   "metadata": {},
   "outputs": [],
   "source": []
  },
  {
   "cell_type": "code",
   "execution_count": 7,
   "metadata": {},
   "outputs": [
    {
     "data": {
      "text/html": [
       "<div>\n",
       "<style scoped>\n",
       "    .dataframe tbody tr th:only-of-type {\n",
       "        vertical-align: middle;\n",
       "    }\n",
       "\n",
       "    .dataframe tbody tr th {\n",
       "        vertical-align: top;\n",
       "    }\n",
       "\n",
       "    .dataframe thead th {\n",
       "        text-align: right;\n",
       "    }\n",
       "</style>\n",
       "<table border=\"1\" class=\"dataframe\">\n",
       "  <thead>\n",
       "    <tr style=\"text-align: right;\">\n",
       "      <th></th>\n",
       "      <th>A</th>\n",
       "      <th>B</th>\n",
       "      <th>C</th>\n",
       "    </tr>\n",
       "  </thead>\n",
       "  <tbody>\n",
       "    <tr>\n",
       "      <th>0</th>\n",
       "      <td>1</td>\n",
       "      <td>4</td>\n",
       "      <td>7</td>\n",
       "    </tr>\n",
       "    <tr>\n",
       "      <th>1</th>\n",
       "      <td>2</td>\n",
       "      <td>5</td>\n",
       "      <td>8</td>\n",
       "    </tr>\n",
       "    <tr>\n",
       "      <th>2</th>\n",
       "      <td>3</td>\n",
       "      <td>6</td>\n",
       "      <td>9</td>\n",
       "    </tr>\n",
       "  </tbody>\n",
       "</table>\n",
       "</div>"
      ],
      "text/plain": [
       "   A  B  C\n",
       "0  1  4  7\n",
       "1  2  5  8\n",
       "2  3  6  9"
      ]
     },
     "execution_count": 7,
     "metadata": {},
     "output_type": "execute_result"
    }
   ],
   "source": [
    "# nondestructive testing\n",
    "df_test = pd.DataFrame( {\n",
    "    'A': [1, 2, 3], \n",
    "    'B': [4, 5, 6]\n",
    "} )\n",
    "\n",
    "c = [7, 8, 9]\n",
    "\n",
    "df_test['C'] = c\n",
    "\n",
    "df_test"
   ]
  },
  {
   "cell_type": "markdown",
   "metadata": {},
   "source": [
    "# Atributos para eliminar valores duplicados"
   ]
  },
  {
   "cell_type": "code",
   "execution_count": 39,
   "metadata": {},
   "outputs": [],
   "source": [
    "# **  Faults LTE filter **\n",
    "# A: 'Period start time'\n",
    "# C: 'LNBTS name'\n",
    "# F: 'ATT_INTER_ENB_HO (M8014C6)'\n",
    "\n",
    "# **  GSM filter **\n",
    "# A: 'Period start time'\n",
    "# B: 'BSC name'\n",
    "# D: 'BTS name'\n",
    "\n",
    "# **  LTE monitoring filter **\n",
    "# A: 'Period start time'\n",
    "# D: 'LNCEL name'\n",
    "\n",
    "# **  WBTS monitoring filter **\n",
    "# A: 'Period start time'\n",
    "# D: 'WBTS name'\n",
    "# E: 'WBTS ID'\n",
    "\n",
    "# ** WCDMA monitoring filter **\n",
    "# A: 'Period start time'\n",
    "# F: 'WCEL name'\n",
    "# G: 'WCEL ID'\n",
    "\n",
    "columns_faults_lte = df_faults_lte_total.columns.to_list()\n",
    "\n",
    "#print( 'Faults LTE:',columns_faults_lte )\n",
    "\n",
    "columns_gsm_monitoring = df_gsm_total.columns.to_list()\n",
    "#print( 'GSM Monitoring:',columns_gsm_monitoring )\n",
    "\n",
    "columns_lte_monitoring = df_lte_total.columns.to_list()\n",
    "#print( 'LTE Monitoring:',columns_lte_monitoring )\n",
    "\n",
    "columns_wbts_monitoring = df_wbts_total.columns.to_list()\n",
    "#print( 'WBTS Monitoring:',columns_wbts_monitoring )\n",
    "\n",
    "columns_wcdma_monitoring = df_wcdma_total.columns.to_list()\n",
    "#print( 'WCDMA Monitoring:',columns_wcdma_monitoring )"
   ]
  },
  {
   "cell_type": "code",
   "execution_count": null,
   "metadata": {},
   "outputs": [],
   "source": []
  },
  {
   "cell_type": "code",
   "execution_count": 40,
   "metadata": {},
   "outputs": [],
   "source": [
    "# Atributos para eliminar valores duplicados\n",
    "faults_lte_duplicate = [ 'Period start time', 'LNBTS name', 'ATT_INTER_ENB_HO (M8014C6)' ]\n",
    "gsm_monitoring_duplicate = [ 'Period start time', 'BSC name', 'BTS name' ]\n",
    "lte_monitoring_duplicate = [ 'Period start time', 'LNCEL name' ]\n",
    "wbts_monitoring_duplicate = [ 'Period start time', 'WBTS name', 'WBTS ID' ]\n",
    "wcdma_monitoring_duplicate = [ 'Period start time', 'WCEL name', 'WCEL ID' ]\n",
    "\n",
    "\n",
    "# El orden de las tecnologías coincide en ambos archivos\n",
    "duplicate_list = [ faults_lte_duplicate, gsm_monitoring_duplicate, lte_monitoring_duplicate, \n",
    "                  wbts_monitoring_duplicate, wcdma_monitoring_duplicate]\n",
    "\n",
    "df_total_list = [ df_faults_lte_total, df_gsm_total, df_lte_total, df_wbts_total, df_wcdma_total ]"
   ]
  },
  {
   "cell_type": "markdown",
   "metadata": {},
   "source": [
    "### Normalización de los nombres\n"
   ]
  },
  {
   "cell_type": "code",
   "execution_count": 41,
   "metadata": {},
   "outputs": [],
   "source": [
    "# normaliza el nombre de los sitios por archivo \n",
    "\n",
    "def norm_name(site:str) -> str:\n",
    "    \"\"\"normaliza los nombres de los sitios, \n",
    "    colocando los nombres en minúscula y sustituyendo los caracteres\n",
    "    '.', ':', ' ' y '-' por '_'\n",
    "\n",
    "    Args:\n",
    "        site (str): nombre del sitio original\n",
    "\n",
    "    Returns:\n",
    "        site (str): nombre del sitio normalizado    \n",
    "    \"\"\"\n",
    "    \n",
    "    site = site.lower()\n",
    "    signs = [' ', '.', ':', '-']\n",
    "    for c in range( len( site ) ):\n",
    "        if site[c] in signs:\n",
    "            site = site.replace(site[c] , '_')\n",
    "        else:\n",
    "            pass\n",
    "        \n",
    "    return site\n",
    "        "
   ]
  },
  {
   "cell_type": "code",
   "execution_count": 42,
   "metadata": {},
   "outputs": [],
   "source": [
    "# Normalización de los nombres de los sitios\n",
    "\n",
    "faults_lte_filter = 'LNBTS name'\n",
    "gsm_filter = 'BCF name'\n",
    "lte_filter = 'LNBTS name'\n",
    "wbts_filter = 'WBTS name'\n",
    "wcdma_filter = 'WBTS name'\n",
    "\n",
    " \n",
    "df_faults_lte_total[ faults_lte_filter ] = df_faults_lte_total[ faults_lte_filter ].apply( norm_name )\n",
    "df_gsm_total[ gsm_filter ] = df_gsm_total[ gsm_filter ].apply( norm_name )\n",
    "df_lte_total[ lte_filter ] = df_lte_total[ lte_filter ].apply( norm_name )\n",
    "df_wbts_total[ wbts_filter ] = df_wbts_total[ wbts_filter ].apply( norm_name )\n",
    "df_wcdma_total[ wcdma_filter ] = df_wcdma_total[ wcdma_filter ].apply( norm_name )"
   ]
  },
  {
   "cell_type": "markdown",
   "metadata": {},
   "source": [
    "### Removiendo valores duplicados en las columnas indicadas"
   ]
  },
  {
   "cell_type": "code",
   "execution_count": 43,
   "metadata": {},
   "outputs": [
    {
     "name": "stdout",
     "output_type": "stream",
     "text": [
      "shape before delete duplicate FAULT LTE: (9005, 13)\n",
      "shape after delete duplicate FAULT LTE: (1801, 13)\n",
      "shape before delete duplicate GSM: (5730, 36)\n",
      "shape after delete duplicate GSM: (2865, 36)\n",
      "shape before delete duplicate LTE: (30464, 36)\n",
      "shape after delete duplicate LTE: (15016, 36)\n",
      "shape before delete duplicate WBTS: (5424, 11)\n",
      "shape after delete duplicate WBTS: (2712, 11)\n",
      "shape before delete duplicate WCDMA: (22730, 54)\n",
      "shape after delete duplicate WCDMA: (11361, 54)\n"
     ]
    }
   ],
   "source": [
    "# Removiendo valores duplicados\n",
    "\n",
    "print( f'shape before delete duplicate FAULT LTE: {df_faults_lte_total.shape}' )\n",
    "\n",
    "# Eliminar duplicados en faults lte\n",
    "df_faults_lte_unique = df_faults_lte_total.drop_duplicates( \n",
    "                                                             subset=faults_lte_duplicate,\n",
    "                                                             ignore_index=True \n",
    "                                                             )\n",
    "\n",
    "print( f'shape after delete duplicate FAULT LTE: {df_faults_lte_unique.shape}' )\n",
    "\n",
    "# Eliminar duplicados en gsm total\n",
    "print( f'shape before delete duplicate GSM: {df_gsm_total.shape}' )\n",
    "df_gsm_unique = df_gsm_total.drop_duplicates( \n",
    "                                               subset=gsm_monitoring_duplicate,\n",
    "                                                             ignore_index=True \n",
    "                                                             )\n",
    "\n",
    "print( f'shape after delete duplicate GSM: {df_gsm_unique.shape}' )\n",
    "\n",
    "# Eliminar duplicados en LTE total\n",
    "print( f'shape before delete duplicate LTE: {df_lte_total.shape}' )\n",
    "df_lte_unique = df_lte_total.drop_duplicates( \n",
    "                                               subset=lte_monitoring_duplicate,\n",
    "                                                        ignore_index=True \n",
    "                                                              )\n",
    "\n",
    "print( f'shape after delete duplicate LTE: {df_lte_unique.shape}' )\n",
    "\n",
    "# Eliminar duplicados en WBTS total [pendind]\n",
    "print( f'shape before delete duplicate WBTS: {df_wbts_total.shape}' )\n",
    "df_wbts_unique = df_wbts_total.drop_duplicates( \n",
    "                                               subset=wbts_monitoring_duplicate,\n",
    "                                                        ignore_index=True \n",
    "                                                              )\n",
    "\n",
    "print( f'shape after delete duplicate WBTS: {df_wbts_unique.shape}' )\n",
    "\n",
    "# Eliminar duplicados en WCDMA total [pendind]\n",
    "print( f'shape before delete duplicate WCDMA: {df_wcdma_total.shape}' )\n",
    "df_wcdma_unique = df_wcdma_total.drop_duplicates( \n",
    "                                               subset=wcdma_monitoring_duplicate,\n",
    "                                                        ignore_index=True \n",
    "                                                              )\n",
    "\n",
    "print( f'shape after delete duplicate WCDMA: {df_wcdma_unique.shape}' )"
   ]
  },
  {
   "cell_type": "code",
   "execution_count": 45,
   "metadata": {},
   "outputs": [
    {
     "data": {
      "text/html": [
       "<div>\n",
       "<style scoped>\n",
       "    .dataframe tbody tr th:only-of-type {\n",
       "        vertical-align: middle;\n",
       "    }\n",
       "\n",
       "    .dataframe tbody tr th {\n",
       "        vertical-align: top;\n",
       "    }\n",
       "\n",
       "    .dataframe thead th {\n",
       "        text-align: right;\n",
       "    }\n",
       "</style>\n",
       "<table border=\"1\" class=\"dataframe\">\n",
       "  <thead>\n",
       "    <tr style=\"text-align: right;\">\n",
       "      <th></th>\n",
       "      <th>Period start time</th>\n",
       "      <th>PLMN name</th>\n",
       "      <th>RNC name</th>\n",
       "      <th>WBTS name</th>\n",
       "      <th>WBTS ID</th>\n",
       "      <th>WCEL name</th>\n",
       "      <th>WCEL ID</th>\n",
       "      <th>Cell Availability</th>\n",
       "      <th>RAB SR Voice</th>\n",
       "      <th>RRC Success Ratio from user perspective</th>\n",
       "      <th>...</th>\n",
       "      <th>HSUPA MAC-es DV at RNC</th>\n",
       "      <th>HSDPA DL vol SRNC side</th>\n",
       "      <th>CSSR All</th>\n",
       "      <th>RRC Active FR due to IU</th>\n",
       "      <th>PS DL data vol</th>\n",
       "      <th>PS UL data vol</th>\n",
       "      <th>Avg reported CQI</th>\n",
       "      <th>avgprachdelay</th>\n",
       "      <th>HSDPA Resource Retainability for NRT Traffic</th>\n",
       "      <th>Act HS-DSCH  end usr thp</th>\n",
       "    </tr>\n",
       "  </thead>\n",
       "  <tbody>\n",
       "    <tr>\n",
       "      <th>0</th>\n",
       "      <td>2022-05-01 09:00:00</td>\n",
       "      <td>PLMN</td>\n",
       "      <td>RNC01TOB</td>\n",
       "      <td>bog_atavanza</td>\n",
       "      <td>2955.0</td>\n",
       "      <td>BOG.Atavanza_L</td>\n",
       "      <td>9556.0</td>\n",
       "      <td>100</td>\n",
       "      <td>99.635036</td>\n",
       "      <td>99.408721</td>\n",
       "      <td>...</td>\n",
       "      <td>923.66664</td>\n",
       "      <td>4044.4832</td>\n",
       "      <td>98.360995</td>\n",
       "      <td>0.1554</td>\n",
       "      <td>4045.85184</td>\n",
       "      <td>925.3644</td>\n",
       "      <td>20.272856</td>\n",
       "      <td>944.054722</td>\n",
       "      <td>99.74537</td>\n",
       "      <td>2271.997478</td>\n",
       "    </tr>\n",
       "    <tr>\n",
       "      <th>1</th>\n",
       "      <td>2022-05-01 09:00:00</td>\n",
       "      <td>PLMN</td>\n",
       "      <td>RNC01TOB</td>\n",
       "      <td>bog_atavanza</td>\n",
       "      <td>375.0</td>\n",
       "      <td>BOG.Atavanza_X</td>\n",
       "      <td>3757.0</td>\n",
       "      <td>100</td>\n",
       "      <td>100</td>\n",
       "      <td>100</td>\n",
       "      <td>...</td>\n",
       "      <td>193.51912</td>\n",
       "      <td>1583.81208</td>\n",
       "      <td>100</td>\n",
       "      <td>0</td>\n",
       "      <td>1584.15272</td>\n",
       "      <td>194.29168</td>\n",
       "      <td>19.55127</td>\n",
       "      <td>538.429038</td>\n",
       "      <td>99.587912</td>\n",
       "      <td>3627.4763</td>\n",
       "    </tr>\n",
       "    <tr>\n",
       "      <th>2</th>\n",
       "      <td>2022-05-01 09:00:00</td>\n",
       "      <td>PLMN</td>\n",
       "      <td>RNC01TOB</td>\n",
       "      <td>bog_atavanza</td>\n",
       "      <td>375.0</td>\n",
       "      <td>BOG.Atavanza_Y</td>\n",
       "      <td>3758.0</td>\n",
       "      <td>100</td>\n",
       "      <td>100</td>\n",
       "      <td>99.148211</td>\n",
       "      <td>...</td>\n",
       "      <td>471.04864</td>\n",
       "      <td>1664.11328</td>\n",
       "      <td>98.432621</td>\n",
       "      <td>0.228833</td>\n",
       "      <td>1668.24168</td>\n",
       "      <td>475.87808</td>\n",
       "      <td>19.171125</td>\n",
       "      <td>626.474836</td>\n",
       "      <td>99.551435</td>\n",
       "      <td>2145.549798</td>\n",
       "    </tr>\n",
       "  </tbody>\n",
       "</table>\n",
       "<p>3 rows × 54 columns</p>\n",
       "</div>"
      ],
      "text/plain": [
       "    Period start time PLMN name  RNC name     WBTS name  WBTS ID  \\\n",
       "0 2022-05-01 09:00:00      PLMN  RNC01TOB  bog_atavanza   2955.0   \n",
       "1 2022-05-01 09:00:00      PLMN  RNC01TOB  bog_atavanza    375.0   \n",
       "2 2022-05-01 09:00:00      PLMN  RNC01TOB  bog_atavanza    375.0   \n",
       "\n",
       "        WCEL name  WCEL ID Cell Availability RAB SR Voice  \\\n",
       "0  BOG.Atavanza_L   9556.0               100    99.635036   \n",
       "1  BOG.Atavanza_X   3757.0               100          100   \n",
       "2  BOG.Atavanza_Y   3758.0               100          100   \n",
       "\n",
       "  RRC Success Ratio from user perspective  ... HSUPA MAC-es DV at RNC  \\\n",
       "0                               99.408721  ...              923.66664   \n",
       "1                                     100  ...              193.51912   \n",
       "2                               99.148211  ...              471.04864   \n",
       "\n",
       "  HSDPA DL vol SRNC side   CSSR All RRC Active FR due to IU PS DL data vol  \\\n",
       "0              4044.4832  98.360995                  0.1554     4045.85184   \n",
       "1             1583.81208        100                       0     1584.15272   \n",
       "2             1664.11328  98.432621                0.228833     1668.24168   \n",
       "\n",
       "  PS UL data vol Avg reported CQI avgprachdelay  \\\n",
       "0       925.3644        20.272856    944.054722   \n",
       "1      194.29168         19.55127    538.429038   \n",
       "2      475.87808        19.171125    626.474836   \n",
       "\n",
       "  HSDPA Resource Retainability for NRT Traffic Act HS-DSCH  end usr thp  \n",
       "0                                     99.74537              2271.997478  \n",
       "1                                    99.587912                3627.4763  \n",
       "2                                    99.551435              2145.549798  \n",
       "\n",
       "[3 rows x 54 columns]"
      ]
     },
     "execution_count": 45,
     "metadata": {},
     "output_type": "execute_result"
    }
   ],
   "source": [
    "# Forma de los archivos por tecnología, sin valores duplicados\n",
    "df_wcdma_unique.head(3)"
   ]
  },
  {
   "cell_type": "markdown",
   "metadata": {},
   "source": [
    "# Filtro por sitios únicos por tecnología"
   ]
  },
  {
   "cell_type": "code",
   "execution_count": 23,
   "metadata": {},
   "outputs": [],
   "source": [
    "# Filtro por sitio únicos según tecnología\n",
    "\n",
    "# Faults ---> LNBTS NAME\n",
    "# GSM-- > BCF NAME\n",
    "# LTE -- > LNBTS Name\n",
    "# WBTS---> WBTS NAME\n",
    "# WCDMA ----> WBTS NAME\n",
    "\n",
    "\n",
    "#*** lista de los sitios únicos por atributo por archivo\n",
    "\n",
    "#print( f'fualts LTE' )\n",
    "fault_lte_sites = list(df_faults_lte_unique[faults_lte_filter].unique())\n",
    "#print( f'Len: { len( fault_lte_sites ) }' )\n",
    "#print( fault_lte_sites )\n",
    "\n",
    "#print( 'GSM:' )\n",
    "gsm_sites = list( df_gsm_unique[gsm_filter].unique() )\n",
    "#print( f'Len: { len( gsm_sites ) }' )\n",
    "#print( gsm_sites )\n",
    "\n",
    "#print( 'LTE:' )\n",
    "lte_sites = list( df_lte_unique[lte_filter].unique() )\n",
    "#print( f'Len: { len( lte_sites ) }' )\n",
    "#print( len(lte_sites) )\n",
    "\n",
    "#print( 'WBTS:' )\n",
    "wbts_sites = list( df_wbts_unique[wbts_filter].unique() )\n",
    "#print( f'Len: { len( wbts_sites ) }' )\n",
    "#print( wbts_sites )\n",
    "\n",
    "#print( 'WCDMA:' )\n",
    "wcdma_sites = list( df_wcdma_unique[wcdma_filter].unique() )\n",
    "#print( f'Len: { len( wcdma_sites ) }' )\n",
    "#print( wcdma_sites )\n",
    "\n",
    "# No puede ser un diccionario, porque no se puede determinar el número de sitios\n",
    "# que se encontraran por por \n",
    "\n",
    "unique_sites = [\n",
    "     fault_lte_sites, gsm_sites, lte_sites, \n",
    "     wbts_sites, wcdma_sites\n",
    " ]\n",
    "\n",
    "# Validación de la cantidad de sitios encontrados\n",
    "\n",
    "# total_site = 0\n",
    "# for site in unique_sites:\n",
    "#     #print( len( site ) )\n",
    "#     total_site += len( site )\n",
    "\n",
    "# Total de sitios identificados, sin validar duplicados\n",
    "# print( total_site )\n",
    "\n",
    "# Definir una única lista de sitios únicos por tecnología\n",
    "\n",
    "site_list = []\n",
    "for site in unique_sites:\n",
    "    for item in range( len( site ) ):\n",
    "        site_list.append( site[item] )\n",
    "\n",
    "\n",
    "# print( f'Sitios unicos: {len(site_list)}' )\n",
    "# print( site_list )"
   ]
  },
  {
   "cell_type": "code",
   "execution_count": null,
   "metadata": {},
   "outputs": [],
   "source": []
  },
  {
   "cell_type": "code",
   "execution_count": 22,
   "metadata": {},
   "outputs": [
    {
     "name": "stdout",
     "output_type": "stream",
     "text": [
      "sitios únicos en fallas LTE: \n",
      "['bca_terminal', 'bog_atavanza', 'bog_cc_titan_2', 'bog_la_esmeralda_2', 'bog_periodistas_1', 'bog_puente_grande', 'bog_recodo_del_country_h1']\n",
      "sitios únicos en GSM: \n",
      "['bog_cc_titan_2', 'bog_puente_grande', 'bog_periodistas_1', 'bog_la_esmeralda_2', 'bog_atavanza']\n",
      "sitios únicos en LTE: \n",
      "['bca_terminal', 'bog_atavanza', 'bog_cc_titan_2', 'bog_la_esmeralda_2', 'bog_periodistas_1', 'bog_puente_grande', 'bog_recodo_del_country_h1']\n",
      "sitios únicos en WBTS: \n",
      "['bog_atavanza', 'bog_recodo_del_country_h1', 'bog_la_esmeralda_2', 'bog_puente_grande', 'bog_cc_titan_2', 'bog_periodistas_1']\n",
      "sitios únicos en WCDMA: \n",
      "['bog_atavanza', 'bog_puente_grande', 'bog_recodo_del_country_h1', 'bog_cc_titan_2', 'bog_periodistas_1', 'bog_la_esmeralda_2']\n"
     ]
    }
   ],
   "source": [
    "# Inspección visual de los sitios únicos por tecnología\n",
    "\n",
    "# fallas LTE\n",
    "print( 'sitios únicos en fallas LTE: ' )\n",
    "print(fault_lte_sites)\n",
    "\n",
    "# GSM\n",
    "print( 'sitios únicos en GSM: ' )\n",
    "print(gsm_sites)\n",
    "\n",
    "# LTE\n",
    "print( 'sitios únicos en LTE: ' )\n",
    "print(lte_sites)\n",
    "\n",
    "# WBTS\n",
    "print( 'sitios únicos en WBTS: ' )\n",
    "print(wbts_sites)\n",
    "\n",
    "# WCDMA\n",
    "print( 'sitios únicos en WCDMA: ' )\n",
    "print(wcdma_sites)\n"
   ]
  },
  {
   "cell_type": "code",
   "execution_count": null,
   "metadata": {},
   "outputs": [],
   "source": []
  },
  {
   "cell_type": "code",
   "execution_count": 24,
   "metadata": {},
   "outputs": [
    {
     "name": "stdout",
     "output_type": "stream",
     "text": [
      "Filtro para LTE FAULTS: \n",
      "bca_terminal: (185, 12)\n",
      "bog_atavanza: (382, 12)\n",
      "bog_cc_titan_2: (301, 12)\n",
      "bog_la_esmeralda_2: (188, 12)\n",
      "bog_periodistas_1: (183, 12)\n",
      "bog_puente_grande: (379, 12)\n",
      "bog_recodo_del_country_h1: (183, 12)\n"
     ]
    }
   ],
   "source": [
    "# Guarda en un diccionario por clave: nombre del df y por valor, \n",
    "# el df correspondiente\n",
    "\n",
    "# Faults LTE Dictionary\n",
    "print(\"Filtro para LTE FAULTS: \")\n",
    "dic_lte_faults = {}\n",
    "for item in fault_lte_sites:\n",
    "    dic_lte_faults[item] = df_faults_lte_unique[ \n",
    "                      df_faults_lte_unique[ faults_lte_filter ] ==  item \n",
    "                                  ]\n",
    "    print( f'{item}: {dic_lte_faults[item].shape}' )\n"
   ]
  },
  {
   "cell_type": "code",
   "execution_count": null,
   "metadata": {},
   "outputs": [],
   "source": []
  },
  {
   "cell_type": "code",
   "execution_count": 25,
   "metadata": {},
   "outputs": [
    {
     "name": "stdout",
     "output_type": "stream",
     "text": [
      "Filtro para GSM:\n",
      "bog_cc_titan_2: (573, 36)\n",
      "bog_puente_grande: (573, 36)\n",
      "bog_periodistas_1: (573, 36)\n",
      "bog_la_esmeralda_2: (573, 36)\n",
      "bog_atavanza: (573, 36)\n"
     ]
    }
   ],
   "source": [
    "# GSM Dictionary \n",
    "print(\"Filtro para GSM:\")\n",
    "dic_gsm = {}\n",
    "for item in gsm_sites:\n",
    "    dic_gsm[item] = df_gsm_unique[ \n",
    "                      df_gsm_unique[ gsm_filter ] ==  item \n",
    "                                ]\n",
    "    print( f'{item}: {dic_gsm[item].shape}' )"
   ]
  },
  {
   "cell_type": "code",
   "execution_count": null,
   "metadata": {},
   "outputs": [],
   "source": []
  },
  {
   "cell_type": "code",
   "execution_count": 26,
   "metadata": {},
   "outputs": [
    {
     "name": "stdout",
     "output_type": "stream",
     "text": [
      "Filtro para LTE:\n",
      "bca_terminal: (1614, 36)\n",
      "bog_atavanza: (2674, 36)\n",
      "bog_cc_titan_2: (3282, 36)\n",
      "bog_la_esmeralda_2: (1434, 36)\n",
      "bog_periodistas_1: (1678, 36)\n",
      "bog_puente_grande: (3053, 36)\n",
      "bog_recodo_del_country_h1: (1281, 36)\n"
     ]
    }
   ],
   "source": [
    "# LTE Dictionary \n",
    "print(\"Filtro para LTE:\")\n",
    "dic_lte = {}\n",
    "for item in lte_sites:\n",
    "    dic_lte[item] = df_lte_unique[ \n",
    "                      df_lte_unique[ lte_filter ] ==  item \n",
    "                                ]\n",
    "    print( f'{item}: {dic_lte[item].shape}' )"
   ]
  },
  {
   "cell_type": "code",
   "execution_count": null,
   "metadata": {},
   "outputs": [],
   "source": []
  },
  {
   "cell_type": "code",
   "execution_count": 27,
   "metadata": {},
   "outputs": [
    {
     "name": "stdout",
     "output_type": "stream",
     "text": [
      "Filtro para WBTS:\n",
      "bog_atavanza: (574, 11)\n",
      "bog_recodo_del_country_h1: (355, 11)\n",
      "bog_la_esmeralda_2: (376, 11)\n",
      "bog_puente_grande: (540, 11)\n",
      "bog_cc_titan_2: (494, 11)\n",
      "bog_periodistas_1: (373, 11)\n"
     ]
    }
   ],
   "source": [
    "# WBTS Dictionary \n",
    "print(\"Filtro para WBTS:\")\n",
    "dic_wbts = {}\n",
    "for item in wbts_sites:\n",
    "    dic_wbts[item] = df_wbts_unique[ \n",
    "                      df_wbts_unique[ wbts_filter ] ==  item \n",
    "                                ]\n",
    "    print( f'{item}: {dic_wbts[item].shape}' )"
   ]
  },
  {
   "cell_type": "code",
   "execution_count": null,
   "metadata": {},
   "outputs": [],
   "source": []
  },
  {
   "cell_type": "code",
   "execution_count": 28,
   "metadata": {},
   "outputs": [
    {
     "name": "stdout",
     "output_type": "stream",
     "text": [
      "Filtro para WCDMA:\n",
      "bog_atavanza: (2292, 54)\n",
      "bog_puente_grande: (2292, 54)\n",
      "bog_recodo_del_country_h1: (1337, 54)\n",
      "bog_cc_titan_2: (2194, 54)\n",
      "bog_periodistas_1: (1527, 54)\n",
      "bog_la_esmeralda_2: (1719, 54)\n"
     ]
    }
   ],
   "source": [
    "# WCDMA Dictionary \n",
    "print(\"Filtro para WCDMA:\")\n",
    "dic_wcdma = {}\n",
    "for item in wcdma_sites:\n",
    "    dic_wcdma[item] = df_wcdma_unique[ \n",
    "                      df_wcdma_unique[ wcdma_filter ] ==  item \n",
    "                                ]\n",
    "    print( f'{item}: {dic_wcdma[item].shape}' )"
   ]
  },
  {
   "cell_type": "code",
   "execution_count": null,
   "metadata": {},
   "outputs": [],
   "source": []
  },
  {
   "cell_type": "markdown",
   "metadata": {},
   "source": [
    "### Exportar los archivos por sitio único, de acuerdo a los templates por tecnología"
   ]
  },
  {
   "cell_type": "code",
   "execution_count": 29,
   "metadata": {},
   "outputs": [
    {
     "name": "stdout",
     "output_type": "stream",
     "text": [
      "Exporting LTE FAULTS files ... \n",
      "bca_terminal: (185, 12)\n",
      "bog_atavanza: (382, 12)\n",
      "bog_cc_titan_2: (301, 12)\n",
      "bog_la_esmeralda_2: (188, 12)\n",
      "bog_periodistas_1: (183, 12)\n",
      "bog_puente_grande: (379, 12)\n",
      "bog_recodo_del_country_h1: (183, 12)\n",
      "Exporting LTE FAULTS files OK!\n"
     ]
    }
   ],
   "source": [
    "# Exporta los archivos FAULTS LTE dic_lte_faults\n",
    "from pathlib import Path\n",
    "\n",
    "print(\"Exporting LTE FAULTS files ... \")\n",
    "for key, value in dic_lte_faults.items():\n",
    "    file_path = Path( f'output_files/{key}_Alertas Tempranas_4G.csv' )\n",
    "    file_path.parent.mkdir( parents=True, exist_ok=True )\n",
    "    print(f'{key}: {value.shape}')\n",
    "    value.to_csv(file_path)\n",
    "    \n",
    "print(\"Exporting LTE FAULTS files OK!\")"
   ]
  },
  {
   "cell_type": "code",
   "execution_count": null,
   "metadata": {},
   "outputs": [],
   "source": []
  },
  {
   "cell_type": "code",
   "execution_count": 30,
   "metadata": {},
   "outputs": [
    {
     "name": "stdout",
     "output_type": "stream",
     "text": [
      "Exporting GSM files ... \n",
      "bog_cc_titan_2: (573, 36)\n",
      "bog_puente_grande: (573, 36)\n",
      "bog_periodistas_1: (573, 36)\n",
      "bog_la_esmeralda_2: (573, 36)\n",
      "bog_atavanza: (573, 36)\n",
      "Exporting GSM files OK!\n"
     ]
    }
   ],
   "source": [
    "# Exporta los archivos GSM\n",
    "\n",
    "print(\"Exporting GSM files ... \")\n",
    "for key, value in dic_gsm.items():\n",
    "    file_path = Path( f'output_files/gsm_{key}.csv' )\n",
    "    file_path.parent.mkdir( parents=True, exist_ok=True )\n",
    "    print(f'{key}: {value.shape}')\n",
    "    value.to_csv(file_path)\n",
    "\n",
    "print(\"Exporting GSM files OK!\")"
   ]
  },
  {
   "cell_type": "code",
   "execution_count": 31,
   "metadata": {},
   "outputs": [
    {
     "name": "stdout",
     "output_type": "stream",
     "text": [
      "Exporting LTE files... \n",
      "bca_terminal: (1614, 36)\n",
      "bog_atavanza: (2674, 36)\n",
      "bog_cc_titan_2: (3282, 36)\n",
      "bog_la_esmeralda_2: (1434, 36)\n",
      "bog_periodistas_1: (1678, 36)\n",
      "bog_puente_grande: (3053, 36)\n",
      "bog_recodo_del_country_h1: (1281, 36)\n",
      "Exporting LTE files OK\n"
     ]
    }
   ],
   "source": [
    "# Exporta los archivos LTE\n",
    "print(\"Exporting LTE files... \")\n",
    "for key, value in dic_lte.items():\n",
    "    file_path = Path( f'output_files/lte_{key}.csv' )\n",
    "    file_path.parent.mkdir( parents=True, exist_ok=True )\n",
    "    print(f'{key}: {value.shape}')\n",
    "    value.to_csv(file_path)\n",
    "    \n",
    "print(\"Exporting LTE files OK\")\n"
   ]
  },
  {
   "cell_type": "code",
   "execution_count": 32,
   "metadata": {},
   "outputs": [
    {
     "name": "stdout",
     "output_type": "stream",
     "text": [
      "Exporting WBTS files... \n",
      "bog_atavanza: (574, 11)\n",
      "bog_recodo_del_country_h1: (355, 11)\n",
      "bog_la_esmeralda_2: (376, 11)\n",
      "bog_puente_grande: (540, 11)\n",
      "bog_cc_titan_2: (494, 11)\n",
      "bog_periodistas_1: (373, 11)\n",
      "Exporting WBTS files OK!\n"
     ]
    }
   ],
   "source": [
    "# Exporta los archivos WBTS\n",
    "\n",
    "print(\"Exporting WBTS files... \")\n",
    "for key, value in dic_wbts.items():\n",
    "    file_path = Path( f'output_files/wbts_{key}.csv' )\n",
    "    file_path.parent.mkdir( parents=True, exist_ok=True )\n",
    "    print(f'{key}: {value.shape}')\n",
    "    value.to_csv(file_path)\n",
    "\n",
    "print(\"Exporting WBTS files OK!\")"
   ]
  },
  {
   "cell_type": "code",
   "execution_count": 33,
   "metadata": {},
   "outputs": [
    {
     "name": "stdout",
     "output_type": "stream",
     "text": [
      "Exporting WCDMA files... \n",
      "bog_atavanza: (2292, 54)\n",
      "bog_puente_grande: (2292, 54)\n",
      "bog_recodo_del_country_h1: (1337, 54)\n",
      "bog_cc_titan_2: (2194, 54)\n",
      "bog_periodistas_1: (1527, 54)\n",
      "bog_la_esmeralda_2: (1719, 54)\n",
      "Exporting WCDMA files OK!\n"
     ]
    }
   ],
   "source": [
    "# Exporta los archivos WCDMA\n",
    "print(\"Exporting WCDMA files... \")\n",
    "for key, value in dic_wcdma.items():\n",
    "    file_path = Path( f'output_files/wcdma_{key}.csv' )\n",
    "    file_path.parent.mkdir( parents=True, exist_ok=True )\n",
    "    print(f'{key}: {value.shape}')\n",
    "    value.to_csv(file_path)\n",
    "    \n",
    "print(\"Exporting WCDMA files OK!\")"
   ]
  },
  {
   "cell_type": "code",
   "execution_count": null,
   "metadata": {},
   "outputs": [],
   "source": []
  },
  {
   "cell_type": "markdown",
   "metadata": {},
   "source": [
    "# Comparación entre los atributos de los archivos de alertas tempranas y los archivos filtrados por sitio"
   ]
  },
  {
   "cell_type": "markdown",
   "metadata": {},
   "source": [
    "### 1 Comparación del archivo de Alertas tempranas 4G"
   ]
  },
  {
   "cell_type": "code",
   "execution_count": 38,
   "metadata": {},
   "outputs": [
    {
     "name": "stdout",
     "output_type": "stream",
     "text": [
      "Sitio filtrado del archivo fallas lte:\n",
      "['Period start time', 'MRBTS name', 'LNBTS name', 'E-UTRAN HP att, inter eNB S1', 'SCTP S1 succ trans R', 'ATT_INTER_ENB_HO (M8014C6)', 'X2 stp att', 'SCTP X2 succ trans R', 'Inter eNB E-UTRAN tot HO SR X2', 'TWAMP tx SR', 'avgRTT_15Min', 'maxRTT_15Min']\n",
      "Shape: (185, 12)\n",
      "***************************************\n",
      "***************************************\n",
      "Template de Alertas tempranas 4G (hoja Data2): \n",
      "['Period start time', 'MRBTS name', 'LNBTS type', 'LNBTS name', 'E-UTRAN HP att, inter eNB S1', 'SCTP S1 succ trans R', 'ATT_INTER_ENB_HO (M8014C6)', 'X2 stp att', 'SCTP X2 succ trans R', 'Inter eNB E-UTRAN tot HO SR X2', 'TWAMP tx SR', 'avgRTT_15Min (M51132C0)', 'maxRTT_15Min (M51132C1)']\n",
      "Shape: (191, 13)\n"
     ]
    }
   ],
   "source": [
    "# ** Comparación de atributos de para 4G, archivo fallas LTE\n",
    "\n",
    "# ruta base de los archivos de alertas tempranas\n",
    "path_1 = \"/home/opm/Documentos-opm/OPN_COLOMBIA/ANALISYS/may_26\"\n",
    "\n",
    "# df del archivo de referencia de alertas tempranas 4G (fallas lte)\n",
    "df_site_lte_faults = pd.read_excel( f'{path_1}/BOG.CC Titan-2_Alertas Tempranas_4G.xlsx', \n",
    "                                   sheet_name=\"Data2\" )\n",
    "\n",
    "# df de uno de los sitios filtrados del archivo fallas lte para compararar atributos\n",
    "df_flte_bca_terminal = dic_lte_faults['bca_terminal']\n",
    "\n",
    "# Características del archivo filtrado\n",
    "print( \"Sitio filtrado del archivo fallas lte:\" )\n",
    "print( df_flte_bca_terminal.columns.to_list() )\n",
    "print( f'Shape: {df_flte_bca_terminal.shape}' )\n",
    "\n",
    "print(\"***************************************\")\n",
    "print(\"***************************************\")\n",
    "\n",
    "# Características del archivo de alertas tempranas 4G (fallas lte)\n",
    "print('Template de Alertas tempranas 4G (hoja Data2): ')\n",
    "print( f'{df_site_lte_faults.columns.to_list()}' )\n",
    "print( f'Shape: {df_site_lte_faults.shape}' )\n",
    "\n"
   ]
  },
  {
   "cell_type": "markdown",
   "metadata": {},
   "source": [
    "#### Observaciones sobre la comparación de los archivos filtrados por sitios y el template de alertas tempranas 4G\n",
    "\n",
    "\n",
    "    * En el archivo de Alertas Tempranas 4G, las siguientes columnas no coinciden:\n",
    "\n",
    "      - 'LNBTS type' -> puede estar o no en el archvo base. En el caso que no este, agregar en la columna 3 de izquierda a derecha (Columna C, de acuerdo al template). En caso que esté, leerla según lo indicada en el template.\n",
    "      - 'avgRTT_15Min (M51132C0) -> en el archivo filtrado por sitio no tiene los parentesis. Mantener el nombre del template.\n",
    "      - 'maxRTT_15Min (M51132C1)' -> en el archivo filtrado por sitio no tiene los parentesis. Mantener el nombre del template.\n",
    "        \n",
    "\n",
    "        "
   ]
  },
  {
   "cell_type": "code",
   "execution_count": null,
   "metadata": {},
   "outputs": [],
   "source": []
  },
  {
   "cell_type": "code",
   "execution_count": 39,
   "metadata": {},
   "outputs": [
    {
     "name": "stdout",
     "output_type": "stream",
     "text": [
      "Sitio filtrado del archivo lte:\n",
      "['Period start time', 'MRBTS/SBTS name', 'LNBTS name', 'LNCEL name', 'Cell Avail excl BLU', 'RACH stp att', 'RACH Stp Completion SR', 'RRC stp att', 'Total E-UTRAN RRC conn stp SR', 'E-UTRAN Data Radio Bearer Attempts', 'Data RB stp SR', 'E-UTRAN E-RAB Setup Attempts', 'E-UTRAN E-RAB stp SR', 'E-UTRAN HO Preparations, intra eNB', 'Intra eNB HO SR total', 'Inter eNB E-UTRAN tot HO SR X2', 'E-UTRAN HP att, inter eNB S1', 'Inter-freq HO att', 'E-UTRAN Inter-Freq HO SR', 'Avg PDCP cell thp UL', 'Avg PDCP cell thp DL', 'PDCP SDU Volume, DL', 'PDCP SDU Volume, UL', 'Average CQI', 'AVG_RTWP_RX_ANT_1 (M8005C306)', 'AVG_RTWP_RX_ANT_2 (M8005C307)', 'AVG_RTWP_RX_ANT_3 (M8005C308)', 'AVG_RTWP_RX_ANT_4 (M8005C309)', 'Avg UE distance', 'VoLTE total traffic', 'Avg active users per cell', 'E-RAB DR, RAN view', 'Total E-UTRAN RRC conn stp SR.1', 'Max PDCP Thr DL', 'E-RAB norm Rel R EPC init', 'Max nr RRC conn UEs per cell']\n",
      "Shape: (1614, 36)\n",
      "***************************************\n",
      "***************************************\n",
      "Template de Alertas tempranas 4G (hoja Data): \n",
      "['Period start time', 'MRBTS/SBTS name', 'LNBTS type', 'LNBTS name', 'LNCEL name', 'Cell Avail excl BLU', 'RACH stp att', 'RACH Stp Completion SR', 'RRC stp att', 'Total E-UTRAN RRC conn stp SR', 'E-UTRAN Data Radio Bearer Attempts', 'Data RB stp SR', 'E-UTRAN E-RAB Setup Attempts', 'E-UTRAN E-RAB stp SR', 'E-UTRAN HO Preparations, intra eNB', 'Intra eNB HO SR total', 'Inter eNB E-UTRAN tot HO SR X2', 'E-UTRAN HP att, inter eNB S1', 'Inter-freq HO att', 'E-UTRAN Inter-Freq HO SR', 'Avg PDCP cell thp UL', 'Avg PDCP cell thp DL', 'PDCP SDU Volume, DL', 'PDCP SDU Volume, UL', 'Average CQI', 'AVG_RTWP_RX_ANT_1', 'AVG_RTWP_RX_ANT_2', 'AVG_RTWP_RX_ANT_3', 'AVG_RTWP_RX_ANT_4', 'Avg UE distance', 'VoLTE total traffic', 'Avg active users per cell', 'E-RAB DR without pre-empt, RAN', 'Total E-UTRAN RRC conn stp SR.1', 'Max PDCP Thr DL', 'E-RAB norm Rel R EPC init', 'Max nr RRC conn UEs per cell', 'AVG_RTWP_RX_ANT_1 (M8005C306)', 'AVG_RTWP_RX_ANT_2 (M8005C307)', 'AVG_RTWP_RX_ANT_3 (M8005C308)', 'AVG_RTWP_RX_ANT_4 (M8005C309)', 'Sector']\n",
      "Shape: (3282, 42)\n"
     ]
    }
   ],
   "source": [
    "#** Comparación de atributos de para 4G, archivo LTE \n",
    "\n",
    "# ruta base de los archivos de alertas tempranas\n",
    "path_1 = \"/home/opm/Documentos-opm/OPN_COLOMBIA/ANALISYS/may_26\"\n",
    "\n",
    "# df del archivo de alertas tempranas 4G (lte)\n",
    "df_site_lte = pd.read_excel( f'{path_1}/BOG.CC Titan-2_Alertas Tempranas_4G.xlsx', \n",
    "                                   sheet_name=\"Data\" )\n",
    "\n",
    "# df de uno de los sitios filtrados del archivo lte\n",
    "df_lte_bca_terminal = dic_lte['bca_terminal']\n",
    "\n",
    "# Características del archivo filtrado\n",
    "print( \"Sitio filtrado del archivo lte:\" )\n",
    "print( df_lte_bca_terminal.columns.to_list() )\n",
    "print( f'Shape: {df_lte_bca_terminal.shape}' )\n",
    "\n",
    "print(\"***************************************\")\n",
    "print(\"***************************************\")\n",
    "\n",
    "# Características del archivo de alertas tempranas 4G (lte)\n",
    "print('Template de Alertas tempranas 4G (hoja Data): ')\n",
    "print( f'{df_site_lte.columns.to_list()}' )\n",
    "print( f'Shape: {df_site_lte.shape}' )\n",
    "\n"
   ]
  },
  {
   "cell_type": "code",
   "execution_count": null,
   "metadata": {},
   "outputs": [],
   "source": []
  },
  {
   "cell_type": "markdown",
   "metadata": {},
   "source": [
    "### 2 Comparación del archivo de Alertas tempranas 3G"
   ]
  },
  {
   "cell_type": "code",
   "execution_count": null,
   "metadata": {},
   "outputs": [],
   "source": [
    "# *******Comparación 3G ***************\n",
    "# inputs: wcdma, wbts\n",
    "# pestaña data (ver)\n",
    "\n",
    "\n",
    "# ruta base de los archivos de alertas tempranas\n",
    "path_1 = \"/home/opm/Documentos-opm/OPN_COLOMBIA/ANALISYS/may_26\"\n",
    "\n",
    "# df del template de alertas tempranas 3G (GSM)\n",
    "df_site_wcdma = pd.read_excel( f'{path_1}/BOG.CC Titan-2_Alertas Tempranas_3G.xlsx', \n",
    "                                   sheet_name=\"Resumen\" )\n",
    "\n",
    "# df de uno de los sitios filtrados del archivo WCDMA\n",
    "df_wcdma_bog_cc_titan_2 = dic_wcdma['bog_cc_titan_2']\n",
    "\n",
    "# Características del archivo filtrado para GSM\n",
    "print( \"Sitio filtrado del archivo WCDMA:\" )\n",
    "print( df_wcdma_bog_cc_titan_2.columns.to_list() )\n",
    "print( f'Shape: {df_wcdma_bog_cc_titan_2.shape}' )\n",
    "\n",
    "print(\"***************************************\")\n",
    "print(\"***************************************\")\n",
    "\n",
    "# Características del archivo de alertas tempranas 4G (fallas lte)\n",
    "print('Template de Alertas tempranas 3G: ')\n",
    "print( f'{df_site_wcdma.columns.to_list()}' )\n",
    "print( f'Shape: {df_site_wcdma.shape}' )\n",
    "\n"
   ]
  },
  {
   "cell_type": "code",
   "execution_count": 115,
   "metadata": {},
   "outputs": [
    {
     "ename": "NameError",
     "evalue": "name 'dic_wbts' is not defined",
     "output_type": "error",
     "traceback": [
      "\u001b[0;31m---------------------------------------------------------------------------\u001b[0m",
      "\u001b[0;31mNameError\u001b[0m                                 Traceback (most recent call last)",
      "\u001b[0;32m/tmp/ipykernel_7143/1143838513.py\u001b[0m in \u001b[0;36m<module>\u001b[0;34m\u001b[0m\n\u001b[1;32m     12\u001b[0m \u001b[0;34m\u001b[0m\u001b[0m\n\u001b[1;32m     13\u001b[0m \u001b[0;31m# df de uno de los sitios filtrados del archivo WBTS\u001b[0m\u001b[0;34m\u001b[0m\u001b[0;34m\u001b[0m\u001b[0;34m\u001b[0m\u001b[0m\n\u001b[0;32m---> 14\u001b[0;31m \u001b[0mdf_wbts_bog_cc_titan_2\u001b[0m \u001b[0;34m=\u001b[0m \u001b[0mdic_wbts\u001b[0m\u001b[0;34m[\u001b[0m\u001b[0;34m'bog_cc_titan_2'\u001b[0m\u001b[0;34m]\u001b[0m\u001b[0;34m\u001b[0m\u001b[0;34m\u001b[0m\u001b[0m\n\u001b[0m\u001b[1;32m     15\u001b[0m \u001b[0;34m\u001b[0m\u001b[0m\n\u001b[1;32m     16\u001b[0m \u001b[0;31m# Características del archivo filtrado para GSM\u001b[0m\u001b[0;34m\u001b[0m\u001b[0;34m\u001b[0m\u001b[0;34m\u001b[0m\u001b[0m\n",
      "\u001b[0;31mNameError\u001b[0m: name 'dic_wbts' is not defined"
     ]
    }
   ],
   "source": [
    "# *******Comparación 3G ***************\n",
    "# input: wbts\n",
    "# pestaña data (ver)\n",
    "\n",
    "\n",
    "# ruta base de los archivos de alertas tempranas\n",
    "path_1 = \"/home/opm/Documentos-opm/OPN_COLOMBIA/ANALISYS/may_26\"\n",
    "\n",
    "# df del template de alertas tempranas 3G (WBTS)\n",
    "df_site_wbts = pd.read_excel( f'{path_1}/BOG.CC Titan-2_Alertas Tempranas_3G.xlsx', \n",
    "                                   sheet_name=\"Data\" )\n",
    "\n",
    "# df de uno de los sitios filtrados del archivo WBTS\n",
    "df_wbts_bog_cc_titan_2 = dic_wbts['bog_cc_titan_2']\n",
    "\n",
    "# Características del archivo filtrado para GSM\n",
    "print( \"Sitio filtrado del archivo WBTS:\" )\n",
    "print( df_wbts_bog_cc_titan_2.columns.to_list() )\n",
    "print( f'Shape: {df_wbts_bog_cc_titan_2.shape}' )\n",
    "\n",
    "print(\"***************************************\")\n",
    "print(\"***************************************\")\n",
    "\n",
    "# Características del archivo de alertas tempranas 3G (WBTS)\n",
    "print('Template de Alertas tempranas 3G WBTS: ')\n",
    "print( f'{df_site_wbts.columns.to_list()}' )\n",
    "print( f'Shape: {df_site_wbts.shape}' )"
   ]
  },
  {
   "cell_type": "markdown",
   "metadata": {},
   "source": [
    "#### No hay correspondencia en las columnas."
   ]
  },
  {
   "cell_type": "code",
   "execution_count": null,
   "metadata": {},
   "outputs": [],
   "source": []
  },
  {
   "cell_type": "markdown",
   "metadata": {},
   "source": [
    "### 3 Comparación del archivo de Alertas tempranas 2G"
   ]
  },
  {
   "cell_type": "code",
   "execution_count": 37,
   "metadata": {},
   "outputs": [
    {
     "name": "stdout",
     "output_type": "stream",
     "text": [
      "Sitio filtrado del archivo GSM:\n",
      "['Period start time', 'BSC name', 'BCF name', 'BTS name', 'TCH drop call (dropped conversation)', 'TCH call blocking', 'SDCCH real blocking', 'DELETE_PAGING_COMMAND (c003038)', 'DL cumulative quality ratio in class 4', 'UL cumulative quality ratio in class 4', 'Average unavailable TCH on normal TRXs', 'UL BER ratio', 'DL BER', '%Denied', 'SDCCH transactions ended, fail Abis interface', 'Average CS traffic per BTS', 'SDCCH_REQ (c057017)', 'UL mlslot allocation blocking', 'Downlink multislot allocation blocking', 'UL TBFs pr timeslot', 'DL TBFs pr timeslot', 'UL GPRS RLC throughput', 'UL EGPRS RLC throughput', 'DL GPRS RLC throughput', 'DL EGPRS RLC throughput', 'TCH drop call ratio, before re-est', 'SDCCH real blocking.1', 'TCH availability ratio', 'Data service availability ratio', 'Average MS-BS distance', 'DL EGPRS RLC payload', 'UL EGPRS RLC payload', 'DL GPRS RLC payload', 'UL GPRS RLC payload', 'SDCCH_ABIS_FAIL (c001033)', 'TCH traffic time, all calls']\n",
      "Shape: (573, 36)\n",
      "***************************************\n",
      "***************************************\n",
      "Template de Alertas tempranas 2G: \n",
      "['Unnamed: 0', 'Date', 'BCF name', 'BTS name', 'TCH drop call (dropped conversation)', 'TCH call blocking', 'SDCCH real blocking', 'DELETE_PAGING_COMMAND (c003038)', 'DL cumulative quality ratio in class 4', 'UL cumulative quality ratio in class 4', 'Average unavailable TCH on normal TRXs', 'UL BER ratio', 'DL BER', '%Denied', 'SDCCH transactions ended, fail Abis interface', 'Average CS traffic per BTS', 'SDCCH_REQ (c057017)', 'UL mlslot allocation blocking', 'Downlink multislot allocation blocking', 'UL TBFs pr timeslot', 'DL TBFs pr timeslot', 'UL GPRS RLC throughput', 'UL EGPRS RLC throughput', 'DL GPRS RLC throughput', 'DL EGPRS RLC throughput', 'TCH drop call ratio, before re-est', 'TCH availability ratio', 'Data service availability ratio', 'Average MS-BS distance', 'DL EGPRS RLC payload', 'UL EGPRS RLC payload', 'DL GPRS RLC payload', 'UL GPRS RLC payload', 'SDCCH_ABIS_FAIL (c001033)', 'TCH traffic time, all calls']\n",
      "Shape: (27, 35)\n"
     ]
    }
   ],
   "source": [
    "# ********Comparación 2G **************\n",
    "# input: GSM\n",
    "# pestaña data\n",
    "\n",
    "# ruta base de los archivos de alertas tempranas\n",
    "path_1 = \"/home/opm/Documentos-opm/OPN_COLOMBIA/ANALISYS/may_26\"\n",
    "\n",
    "# df del archivo de alertas tempranas 3G (GSM)\n",
    "df_site_gsm = pd.read_excel( f'{path_1}/BOG.CC Titan-2_Alertas Tempranas_2G.xlsx', \n",
    "                                   sheet_name=\"Resumen\" )\n",
    "\n",
    "# df de uno de los sitios filtrados del archivo WCDMA\n",
    "df_gsm_bog_cc_titan_2 = dic_gsm['bog_cc_titan_2']\n",
    "\n",
    "# Características del archivo filtrado para GSM\n",
    "print( \"Sitio filtrado del archivo GSM:\" )\n",
    "print( df_gsm_bog_cc_titan_2.columns.to_list() )\n",
    "print( f'Shape: {df_gsm_bog_cc_titan_2.shape}' )\n",
    "\n",
    "print(\"***************************************\")\n",
    "print(\"***************************************\")\n",
    "\n",
    "# Características del archivo de alertas tempranas 4G (fallas lte)\n",
    "print('Template de Alertas tempranas 2G: ')\n",
    "print( f'{df_site_gsm.columns.to_list()}' )\n",
    "print( f'Shape: {df_site_gsm.shape}' )\n",
    "\n"
   ]
  },
  {
   "cell_type": "code",
   "execution_count": null,
   "metadata": {},
   "outputs": [],
   "source": []
  },
  {
   "cell_type": "code",
   "execution_count": null,
   "metadata": {},
   "outputs": [],
   "source": [
    "# Function definition\n",
    "\n",
    "def file_consolidation( file_tech: str ) -> dict:\n",
    "    \"\"\"consolidates in a single df the data by technology\n",
    "\n",
    "    Args:\n",
    "        file_tech (str): file prefix by technology\n",
    "\n",
    "    Returns:\n",
    "        Dict: DataFrame with data consolidated by technology\n",
    "    \"\"\"\n",
    "    \n",
    "    # necessary libraries\n",
    "    import pandas as pd\n",
    "    import glob\n",
    "    \n",
    "    # folder path with the data\n",
    "    path = \"/home/opm/Documentos-opm/OPN_COLOMBIA/ANALISYS/input_files\"\n",
    "    \n",
    "    # global variable\n",
    "    global df_total\n",
    "\n",
    "    # List of file names\n",
    "    xlsx_files_list = glob.glob( path + \"/*.xlsx\" )\n",
    "    \n",
    "    # initialize counter\n",
    "    file_count = 0\n",
    "\n",
    "    # file identification by technology\n",
    "    for xlsx_file in range( len( xlsx_files_list ) ):\n",
    "        \n",
    "        # file search\n",
    "        if file_tech in xlsx_files_list[ xlsx_file ]:\n",
    "                    \n",
    "            # read file\n",
    "            if file_count < 1:\n",
    "                \n",
    "                file_count += 1\n",
    "                \n",
    "                df_1 = pd.read_excel( io=xlsx_files_list[ xlsx_file ] )\n",
    "                \n",
    "                df_1 = df_1.drop( labels=0, axis=0 )\n",
    "                # validation print\n",
    "                #print( f'shape df_1: {df_1.shape}' )\n",
    "            else:\n",
    "                df_2 = pd.read_excel( io=xlsx_files_list[ xlsx_file ] )\n",
    "                \n",
    "                file_count += 1\n",
    "                \n",
    "                df_2 = df_2.drop( labels=0, axis=0 )\n",
    "                \n",
    "                df_total = pd.concat( [ df_1, df_2 ], ignore_index=True )\n",
    "                \n",
    "                df_1 = df_total.copy()\n",
    "        \n",
    "    # Dictionary of results\n",
    "    results = {\n",
    "        'TECHNOLOGY':file_tech, \n",
    "        'df_total SHAPE': df_total.shape, \n",
    "        'TOTAL FILES': file_count\n",
    "    }\n",
    "    #print( f'shape {file_tech}: {df_total.shape}' )\n",
    "    return results"
   ]
  },
  {
   "cell_type": "code",
   "execution_count": null,
   "metadata": {},
   "outputs": [
    {
     "data": {
      "text/plain": [
       "{'TECHNOLOGY': 'Fallas_TX_LTE', 'df_total SHAPE': (9005, 12), 'TOTAL FILES': 5}"
      ]
     },
     "execution_count": 12,
     "metadata": {},
     "output_type": "execute_result"
    }
   ],
   "source": [
    "file_consolidation(\"Fallas_TX_LTE\")"
   ]
  },
  {
   "cell_type": "code",
   "execution_count": null,
   "metadata": {},
   "outputs": [
    {
     "data": {
      "text/html": [
       "<div>\n",
       "<style scoped>\n",
       "    .dataframe tbody tr th:only-of-type {\n",
       "        vertical-align: middle;\n",
       "    }\n",
       "\n",
       "    .dataframe tbody tr th {\n",
       "        vertical-align: top;\n",
       "    }\n",
       "\n",
       "    .dataframe thead th {\n",
       "        text-align: right;\n",
       "    }\n",
       "</style>\n",
       "<table border=\"1\" class=\"dataframe\">\n",
       "  <thead>\n",
       "    <tr style=\"text-align: right;\">\n",
       "      <th></th>\n",
       "      <th>Period start time</th>\n",
       "      <th>MRBTS name</th>\n",
       "      <th>LNBTS name</th>\n",
       "      <th>E-UTRAN HP att, inter eNB S1</th>\n",
       "      <th>SCTP S1 succ trans R</th>\n",
       "      <th>ATT_INTER_ENB_HO (M8014C6)</th>\n",
       "      <th>X2 stp att</th>\n",
       "      <th>SCTP X2 succ trans R</th>\n",
       "      <th>Inter eNB E-UTRAN tot HO SR X2</th>\n",
       "      <th>TWAMP tx SR</th>\n",
       "      <th>avgRTT_15Min</th>\n",
       "      <th>maxRTT_15Min</th>\n",
       "    </tr>\n",
       "  </thead>\n",
       "  <tbody>\n",
       "    <tr>\n",
       "      <th>0</th>\n",
       "      <td>2022-05-01 09:00:00</td>\n",
       "      <td>BCA.Terminal</td>\n",
       "      <td>BCA.Terminal</td>\n",
       "      <td>0</td>\n",
       "      <td>100</td>\n",
       "      <td>2698</td>\n",
       "      <td>0</td>\n",
       "      <td>99.97558</td>\n",
       "      <td>99.184883</td>\n",
       "      <td>NaN</td>\n",
       "      <td>NaN</td>\n",
       "      <td>NaN</td>\n",
       "    </tr>\n",
       "    <tr>\n",
       "      <th>1</th>\n",
       "      <td>2022-05-01 10:00:00</td>\n",
       "      <td>BCA.Terminal</td>\n",
       "      <td>BCA.Terminal</td>\n",
       "      <td>0</td>\n",
       "      <td>100</td>\n",
       "      <td>3025</td>\n",
       "      <td>0</td>\n",
       "      <td>100</td>\n",
       "      <td>98.77686</td>\n",
       "      <td>NaN</td>\n",
       "      <td>NaN</td>\n",
       "      <td>NaN</td>\n",
       "    </tr>\n",
       "    <tr>\n",
       "      <th>2</th>\n",
       "      <td>2022-05-01 11:00:00</td>\n",
       "      <td>BCA.Terminal</td>\n",
       "      <td>BCA.Terminal</td>\n",
       "      <td>9</td>\n",
       "      <td>100</td>\n",
       "      <td>3631</td>\n",
       "      <td>2</td>\n",
       "      <td>100</td>\n",
       "      <td>98.623348</td>\n",
       "      <td>NaN</td>\n",
       "      <td>NaN</td>\n",
       "      <td>NaN</td>\n",
       "    </tr>\n",
       "  </tbody>\n",
       "</table>\n",
       "</div>"
      ],
      "text/plain": [
       "    Period start time    MRBTS name    LNBTS name  \\\n",
       "0 2022-05-01 09:00:00  BCA.Terminal  BCA.Terminal   \n",
       "1 2022-05-01 10:00:00  BCA.Terminal  BCA.Terminal   \n",
       "2 2022-05-01 11:00:00  BCA.Terminal  BCA.Terminal   \n",
       "\n",
       "  E-UTRAN HP att, inter eNB S1 SCTP S1 succ trans R  \\\n",
       "0                            0                  100   \n",
       "1                            0                  100   \n",
       "2                            9                  100   \n",
       "\n",
       "  ATT_INTER_ENB_HO (M8014C6) X2 stp att SCTP X2 succ trans R  \\\n",
       "0                       2698          0             99.97558   \n",
       "1                       3025          0                  100   \n",
       "2                       3631          2                  100   \n",
       "\n",
       "  Inter eNB E-UTRAN tot HO SR X2 TWAMP tx SR avgRTT_15Min maxRTT_15Min  \n",
       "0                      99.184883         NaN          NaN          NaN  \n",
       "1                       98.77686         NaN          NaN          NaN  \n",
       "2                      98.623348         NaN          NaN          NaN  "
      ]
     },
     "execution_count": 13,
     "metadata": {},
     "output_type": "execute_result"
    }
   ],
   "source": [
    "df_total.head(3)"
   ]
  },
  {
   "cell_type": "code",
   "execution_count": null,
   "metadata": {},
   "outputs": [],
   "source": []
  },
  {
   "cell_type": "code",
   "execution_count": null,
   "metadata": {},
   "outputs": [
    {
     "name": "stdout",
     "output_type": "stream",
     "text": [
      "{'TECHNOLOGY': 'Fallas_TX_LTE', 'df_total SHAPE': (9005, 12), 'TOTAL FILES': 5}\n",
      "{'TECHNOLOGY': 'GSM_NPO_Monitoring_v4', 'df_total SHAPE': (5730, 36), 'TOTAL FILES': 2}\n",
      "{'TECHNOLOGY': 'LTE_FL16A_NPO_Monitoring_V4', 'df_total SHAPE': (30464, 36), 'TOTAL FILES': 2}\n",
      "{'TECHNOLOGY': 'WBTS_WCDMA17_NPO_MONITORING', 'df_total SHAPE': (5424, 11), 'TOTAL FILES': 2}\n",
      "{'TECHNOLOGY': 'WCDMA17_NPO_Monitoring_V4', 'df_total SHAPE': (22730, 54), 'TOTAL FILES': 2}\n"
     ]
    }
   ],
   "source": [
    "# tests\n",
    "files_tech_id = [\n",
    "    \"Fallas_TX_LTE\",\n",
    "    \"GSM_NPO_Monitoring_v4\", \n",
    "    \"LTE_FL16A_NPO_Monitoring_V4\", \n",
    "    \"WBTS_WCDMA17_NPO_MONITORING\", \n",
    "    \"WCDMA17_NPO_Monitoring_V4\"\n",
    "    ]\n",
    "\n",
    "for file in range( len( files_tech_id ) ):\n",
    "    \n",
    "    print( file_consolidation( files_tech_id[ file ] ))"
   ]
  }
 ],
 "metadata": {
  "interpreter": {
   "hash": "3313d7862e35f23cb796a0d5e1a05f5386948db6518b51457360428deb8d3fb3"
  },
  "kernelspec": {
   "display_name": "Python 3.8.3 64-bit ('base': conda)",
   "language": "python",
   "name": "python3"
  },
  "language_info": {
   "codemirror_mode": {
    "name": "ipython",
    "version": 3
   },
   "file_extension": ".py",
   "mimetype": "text/x-python",
   "name": "python",
   "nbconvert_exporter": "python",
   "pygments_lexer": "ipython3",
   "version": "3.8.3"
  },
  "orig_nbformat": 4
 },
 "nbformat": 4,
 "nbformat_minor": 2
}
